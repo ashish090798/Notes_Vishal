{
 "cells": [
  {
   "cell_type": "code",
   "execution_count": null,
   "metadata": {},
   "outputs": [],
   "source": [
    "#Urllib-Python’s standard library for web scrapping\n",
    "#Requests and #Selenium-To fetch HTML/XML from web pages\n",
    "#Beautiful Soup , #Lxml and #Pandas-To parse HTML/XML into useful data. Takes HTML or XML content and returns an object in return that we can then navigate like the original tree structure of the DOM\n",
    "#Scrapy-a complete web scraping framework to manage requests,preserve user sessions, follow redirects, and handle output pipelines."
   ]
  },
  {
   "cell_type": "code",
   "execution_count": null,
   "metadata": {},
   "outputs": [],
   "source": [
    "#Urllib"
   ]
  },
  {
   "cell_type": "code",
   "execution_count": 25,
   "metadata": {
    "scrolled": true
   },
   "outputs": [],
   "source": [
    "from urllib.request import urlopen\n",
    "# import json\n",
    "url =  \"https://www.geeksforgeeks.org/data-structures/\"\n",
    "response = urlopen(url)\n",
    "# print(type(response))\n",
    "# json_response = json.loads(response.read())\n",
    "# print(type(json_response))\n",
    "html_bytes = response.read()\n",
    "# print(type(html_bytes))\n",
    "html = html_bytes.decode(\"utf-8\")\n",
    "# print(type(html))\n",
    "# print(html)"
   ]
  },
  {
   "cell_type": "code",
   "execution_count": null,
   "metadata": {},
   "outputs": [],
   "source": [
    "#Requests"
   ]
  },
  {
   "cell_type": "code",
   "execution_count": 30,
   "metadata": {},
   "outputs": [],
   "source": [
    "import requests \n",
    "URL = \"https://www.geeksforgeeks.org/data-structures/\"\n",
    "response = requests.get(URL) \n",
    "# print(type(response))\n",
    "# print(response.content) "
   ]
  },
  {
   "cell_type": "code",
   "execution_count": null,
   "metadata": {},
   "outputs": [],
   "source": [
    "#Selenium"
   ]
  },
  {
   "cell_type": "code",
   "execution_count": 27,
   "metadata": {},
   "outputs": [],
   "source": [
    "# from selenium import webdriver\n",
    "# driver = webdriver.Chrome()\n",
    "# driver.get('https://www.geeksforgeeks.org/data-structures/')\n",
    "# page = driver.page_source\n",
    "# print(page)"
   ]
  },
  {
   "cell_type": "code",
   "execution_count": null,
   "metadata": {},
   "outputs": [],
   "source": [
    "#Beautiful soup"
   ]
  },
  {
   "cell_type": "code",
   "execution_count": 32,
   "metadata": {},
   "outputs": [],
   "source": [
    "import requests\n",
    "from bs4 import BeautifulSoup\n",
    "url = 'https://www.geeksforgeeks.org/data-structures/'\n",
    "response = requests.get(url)\n",
    "soup = BeautifulSoup(response.text, 'html5lib')\n",
    "#response.text for text \n",
    "#response.content() for byte-by-byte output\n",
    "#response.json for JSON objects\n",
    "#response.raw for the raw socket response\n",
    "#print(soup)"
   ]
  },
  {
   "cell_type": "code",
   "execution_count": 37,
   "metadata": {},
   "outputs": [],
   "source": [
    "import requests\n",
    "from urllib.error import HTTPError\n",
    "from urllib.error import URLError\n",
    "from bs4 import BeautifulSoup\n",
    "import csv\n",
    "\n",
    "try:\n",
    "    response = requests.get('https://www.geeksforgeeks.org/data-structures/')\n",
    "except HTTPError as e:\n",
    "    print(e)\n",
    "except URLError:\n",
    "    print(\"Server down or incorrect domain\")\n",
    "else:\n",
    "    soup = BeautifulSoup(response.text,\"html5lib\")\n",
    "#     print(soup)"
   ]
  },
  {
   "cell_type": "code",
   "execution_count": 32,
   "metadata": {},
   "outputs": [
    {
     "data": {
      "text/plain": [
       "['42.2', '47', '37', '-', '16', '0', '6', '9.3', '16.5', '0', '0', '0', '0']"
      ]
     },
     "execution_count": 32,
     "metadata": {},
     "output_type": "execute_result"
    }
   ],
   "source": [
    "import requests\n",
    "url='https://en.tutiempo.net/climate/05-2020/ws-422600.html'\n",
    "response = requests.get(url)\n",
    "soup = BeautifulSoup(response.text,\"html5lib\")\n",
    "table = soup.find('table', { 'class' : 'medias mensuales numspan' })\n",
    "# where the dictionary specify unique attributes for the 'table' tag\n",
    "table_body = table.find('tbody')\n",
    "rows = table_body.find_all('tr')\n",
    "data=[]\n",
    "for row in rows:\n",
    "    cols = row.find_all('td')\n",
    "    cols = [ele.text.strip() for ele in cols]\n",
    "    data.append([ele for ele in cols if ele])\n",
    "data[-1]"
   ]
  },
  {
   "cell_type": "code",
   "execution_count": null,
   "metadata": {},
   "outputs": [],
   "source": [
    "#Lxml"
   ]
  },
  {
   "cell_type": "code",
   "execution_count": 33,
   "metadata": {},
   "outputs": [],
   "source": [
    "import requests\n",
    "import lxml\n",
    "url='http://www.un.org/en/sc/documents/resolutions/2016.shtml'\n",
    "response = requests.get(url)\n",
    "tree = lxml.html.fromstring(response.text)\n",
    "title_elem = tree.xpath('//title')[0]\n",
    "# title_elem = tree.cssselect('title')[0]  # equivalent to previous XPath\n",
    "# print(title_elem)"
   ]
  },
  {
   "cell_type": "code",
   "execution_count": null,
   "metadata": {},
   "outputs": [],
   "source": [
    "#Pandas"
   ]
  },
  {
   "cell_type": "code",
   "execution_count": 30,
   "metadata": {},
   "outputs": [
    {
     "name": "stdout",
     "output_type": "stream",
     "text": [
      "     0     1   2   3  4   5  6  7    8     9    10 11 12 13 14\n",
      "33  NaN  42.2  47  37  -  16  0  6  9.3  16.5  NaN  0  0  0  0\n"
     ]
    }
   ],
   "source": [
    "import requests\n",
    "url = 'https://en.tutiempo.net/climate/05-2020/ws-422600.html'\n",
    "response = requests.get(url)\n",
    "import pandas as pd\n",
    "df_list = pd.read_html(response.text) # this parses all the tables in webpages to a list\n",
    "print(df_list[2].tail(1))"
   ]
  }
 ],
 "metadata": {
  "kernelspec": {
   "display_name": "Python 3 (ipykernel)",
   "language": "python",
   "name": "python3"
  },
  "language_info": {
   "codemirror_mode": {
    "name": "ipython",
    "version": 3
   },
   "file_extension": ".py",
   "mimetype": "text/x-python",
   "name": "python",
   "nbconvert_exporter": "python",
   "pygments_lexer": "ipython3",
   "version": "3.9.7"
  }
 },
 "nbformat": 4,
 "nbformat_minor": 2
}
