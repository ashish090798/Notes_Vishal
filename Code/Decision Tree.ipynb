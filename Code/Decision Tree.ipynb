{
 "cells": [
  {
   "cell_type": "code",
   "execution_count": 1,
   "metadata": {},
   "outputs": [],
   "source": [
    "import pandas as pd\n",
    "import numpy as np\n",
    "import pylab as plt\n",
    "import seaborn as sns\n",
    "from sklearn.model_selection import train_test_split\n",
    "from sklearn.tree import DecisionTreeClassifier,DecisionTreeRegressor\n",
    "from sklearn import metrics"
   ]
  },
  {
   "cell_type": "code",
   "execution_count": 2,
   "metadata": {},
   "outputs": [],
   "source": [
    "import os\n",
    "os.chdir(r'C:\\Users\\Vish\\Documents\\Data\\Dataset')\n",
    "df = pd.read_csv(\"diabetes.csv\")"
   ]
  },
  {
   "cell_type": "code",
   "execution_count": 3,
   "metadata": {},
   "outputs": [
    {
     "data": {
      "text/html": [
       "<div>\n",
       "<style scoped>\n",
       "    .dataframe tbody tr th:only-of-type {\n",
       "        vertical-align: middle;\n",
       "    }\n",
       "\n",
       "    .dataframe tbody tr th {\n",
       "        vertical-align: top;\n",
       "    }\n",
       "\n",
       "    .dataframe thead th {\n",
       "        text-align: right;\n",
       "    }\n",
       "</style>\n",
       "<table border=\"1\" class=\"dataframe\">\n",
       "  <thead>\n",
       "    <tr style=\"text-align: right;\">\n",
       "      <th></th>\n",
       "      <th>Pregnancies</th>\n",
       "      <th>Glucose</th>\n",
       "      <th>BloodPressure</th>\n",
       "      <th>SkinThickness</th>\n",
       "      <th>Insulin</th>\n",
       "      <th>BMI</th>\n",
       "      <th>DiabetesPedigreeFunction</th>\n",
       "      <th>Age</th>\n",
       "      <th>Outcome</th>\n",
       "    </tr>\n",
       "  </thead>\n",
       "  <tbody>\n",
       "    <tr>\n",
       "      <th>0</th>\n",
       "      <td>6</td>\n",
       "      <td>148</td>\n",
       "      <td>72</td>\n",
       "      <td>35</td>\n",
       "      <td>0</td>\n",
       "      <td>33.6</td>\n",
       "      <td>0.627</td>\n",
       "      <td>50</td>\n",
       "      <td>1</td>\n",
       "    </tr>\n",
       "    <tr>\n",
       "      <th>1</th>\n",
       "      <td>1</td>\n",
       "      <td>85</td>\n",
       "      <td>66</td>\n",
       "      <td>29</td>\n",
       "      <td>0</td>\n",
       "      <td>26.6</td>\n",
       "      <td>0.351</td>\n",
       "      <td>31</td>\n",
       "      <td>0</td>\n",
       "    </tr>\n",
       "    <tr>\n",
       "      <th>2</th>\n",
       "      <td>8</td>\n",
       "      <td>183</td>\n",
       "      <td>64</td>\n",
       "      <td>0</td>\n",
       "      <td>0</td>\n",
       "      <td>23.3</td>\n",
       "      <td>0.672</td>\n",
       "      <td>32</td>\n",
       "      <td>1</td>\n",
       "    </tr>\n",
       "    <tr>\n",
       "      <th>3</th>\n",
       "      <td>1</td>\n",
       "      <td>89</td>\n",
       "      <td>66</td>\n",
       "      <td>23</td>\n",
       "      <td>94</td>\n",
       "      <td>28.1</td>\n",
       "      <td>0.167</td>\n",
       "      <td>21</td>\n",
       "      <td>0</td>\n",
       "    </tr>\n",
       "    <tr>\n",
       "      <th>4</th>\n",
       "      <td>0</td>\n",
       "      <td>137</td>\n",
       "      <td>40</td>\n",
       "      <td>35</td>\n",
       "      <td>168</td>\n",
       "      <td>43.1</td>\n",
       "      <td>2.288</td>\n",
       "      <td>33</td>\n",
       "      <td>1</td>\n",
       "    </tr>\n",
       "  </tbody>\n",
       "</table>\n",
       "</div>"
      ],
      "text/plain": [
       "   Pregnancies  Glucose  BloodPressure  SkinThickness  Insulin   BMI  \\\n",
       "0            6      148             72             35        0  33.6   \n",
       "1            1       85             66             29        0  26.6   \n",
       "2            8      183             64              0        0  23.3   \n",
       "3            1       89             66             23       94  28.1   \n",
       "4            0      137             40             35      168  43.1   \n",
       "\n",
       "   DiabetesPedigreeFunction  Age  Outcome  \n",
       "0                     0.627   50        1  \n",
       "1                     0.351   31        0  \n",
       "2                     0.672   32        1  \n",
       "3                     0.167   21        0  \n",
       "4                     2.288   33        1  "
      ]
     },
     "execution_count": 3,
     "metadata": {},
     "output_type": "execute_result"
    }
   ],
   "source": [
    "df.head()"
   ]
  },
  {
   "cell_type": "code",
   "execution_count": 4,
   "metadata": {},
   "outputs": [
    {
     "data": {
      "text/plain": [
       "0    500\n",
       "1    268\n",
       "Name: Outcome, dtype: int64"
      ]
     },
     "execution_count": 4,
     "metadata": {},
     "output_type": "execute_result"
    }
   ],
   "source": [
    "#Check class imbalance\n",
    "df['Outcome'].value_counts()"
   ]
  },
  {
   "cell_type": "code",
   "execution_count": 5,
   "metadata": {},
   "outputs": [],
   "source": [
    "#Splitting the data into independent and dependent variables\n",
    "X = df.iloc[:,:8]\n",
    "y = df['Outcome'] "
   ]
  },
  {
   "cell_type": "code",
   "execution_count": 6,
   "metadata": {},
   "outputs": [],
   "source": [
    "#Evaluate the model by splitting into train and test sets\n",
    "X_train, X_test, y_train, y_test = train_test_split(X, y, test_size=0.3, random_state=0)"
   ]
  },
  {
   "cell_type": "code",
   "execution_count": 7,
   "metadata": {},
   "outputs": [],
   "source": [
    "#Model building\n",
    "model = DecisionTreeClassifier(criterion='entropy',splitter='best',max_depth=10,min_samples_split=2,min_samples_leaf=1,max_features='auto',max_leaf_nodes=2,random_state=1)\n",
    "#criterion:{“gini”, “entropy”}, default=“gini”--The function to measure the quality of a split\n",
    "#Supported criteria are “gini” for the Gini impurity and “entropy” for the information gain\n",
    "#splitter:{“best”, “random”}, default=“best”--The strategy used to choose the split at each node\n",
    "#max_depth:{int, None}, default=None--The maximum depth of the tree\n",
    "#min_samples_split:{int, float}, default=2--The minimum number of samples required to split an internal node\n",
    "#min_samples_leaf:{int, float}, default=1--The minimum number of samples required to be at a leaf node\n",
    "#max_features:{int, float, None, “auto”, “sqrt”, “log2”}, default=None--The number of features to consider when looking for the best split\n",
    "#max_leaf_nodes:{int, None}, default=None--The maximum number of leaf nodes to consider\n",
    "#min_impurity_decrease:float, default=0.0--Threshold for early stopping in tree growth. A node will split if its impurity is above the threshold, otherwise it is a leaf.\n",
    "#random_state:{int, RandomState}, default=None--Can be used for generating reproducible results\n",
    "model = model.fit(X_train, y_train)"
   ]
  },
  {
   "cell_type": "code",
   "execution_count": 8,
   "metadata": {},
   "outputs": [],
   "source": [
    "#Model building\n",
    "#Fit the classifier\n",
    "#model = DecisionTreeRegressor(criterion='entropy',splitter='best',max_depth=10,min_samples_split=2,min_samples_leaf=1,max_features='auto',max_leaf_nodes=2,random_state=1)\n",
    "#criterion:{“mse”, “friedman_mse”, “mae”}, default=”mse”--The function to measure the quality of a split\n",
    "#splitter:{“best”, “random”}, default=“best”--The strategy used to choose the split at each node\n",
    "#max_depth:{int, None}, default=None--The maximum depth of the tree\n",
    "#min_samples_split:{int, float}, default=2--The minimum number of samples required to split an internal node\n",
    "#min_samples_leaf:{int, float}, default=1--The minimum number of samples required to be at a leaf node\n",
    "#max_features:{int, float, None, “auto”, “sqrt”, “log2”}, default=None--The number of features to consider when looking for the best split\n",
    "#max_leaf_nodes:{int, None}, default=None--The maximum number of leaf nodes to consider\n",
    "#min_impurity_decrease:float, default=0.0--Threshold for early stopping in tree growth. A node will split if its impurity is above the threshold, otherwise it is a leaf.\n",
    "#random_state:{int, RandomState}, default=None--Can be used for generating reproducible results\n",
    "#model = model.fit(X_train, y_train)"
   ]
  },
  {
   "cell_type": "code",
   "execution_count": 9,
   "metadata": {},
   "outputs": [],
   "source": [
    "#Predictions\n",
    "#The predict fuction converts probability values > .5 to 1 else 0\n",
    "y_pred = model.predict(X_test)"
   ]
  },
  {
   "cell_type": "code",
   "execution_count": 10,
   "metadata": {},
   "outputs": [
    {
     "name": "stdout",
     "output_type": "stream",
     "text": [
      "Accuracy:  0.6190476190476191\n",
      "Recall:  0.4375\n",
      "F1 score:  0.5268817204301075\n"
     ]
    }
   ],
   "source": [
    "#Evaluating model\n",
    "print(\"Accuracy: \", metrics.accuracy_score(y_test, y_pred))\n",
    "print(\"Recall: \", metrics.precision_score(y_test,y_pred))\n",
    "print(\"F1 score: \", metrics.f1_score(y_test,y_pred))"
   ]
  },
  {
   "cell_type": "code",
   "execution_count": 11,
   "metadata": {},
   "outputs": [],
   "source": [
    "# Using our own threshold\n",
    "# decisions = (model.predict_proba(X_test) >= 0.6).astype(int)\n",
    "# y_pred=decisions[:,1]\n",
    "# print(\"Accuracy: \", metrics.accuracy_score(y_test, y_pred))\n",
    "# print(\"Recall: \", metrics.precision_score(y_test,y_pred))\n",
    "# print(\"F1 score: \", metrics.f1_score(y_test,y_pred))"
   ]
  },
  {
   "cell_type": "code",
   "execution_count": 12,
   "metadata": {},
   "outputs": [
    {
     "data": {
      "text/plain": [
       "array([[0.81451613, 0.18548387],\n",
       "       [0.81451613, 0.18548387],\n",
       "       [0.81451613, 0.18548387],\n",
       "       [0.48788927, 0.51211073],\n",
       "       [0.48788927, 0.51211073],\n",
       "       [0.81451613, 0.18548387],\n",
       "       [0.48788927, 0.51211073],\n",
       "       [0.48788927, 0.51211073],\n",
       "       [0.81451613, 0.18548387],\n",
       "       [0.48788927, 0.51211073],\n",
       "       [0.81451613, 0.18548387],\n",
       "       [0.48788927, 0.51211073],\n",
       "       [0.48788927, 0.51211073],\n",
       "       [0.81451613, 0.18548387],\n",
       "       [0.48788927, 0.51211073],\n",
       "       [0.48788927, 0.51211073],\n",
       "       [0.48788927, 0.51211073],\n",
       "       [0.81451613, 0.18548387],\n",
       "       [0.48788927, 0.51211073],\n",
       "       [0.48788927, 0.51211073],\n",
       "       [0.48788927, 0.51211073],\n",
       "       [0.81451613, 0.18548387],\n",
       "       [0.81451613, 0.18548387],\n",
       "       [0.48788927, 0.51211073],\n",
       "       [0.81451613, 0.18548387],\n",
       "       [0.81451613, 0.18548387],\n",
       "       [0.81451613, 0.18548387],\n",
       "       [0.48788927, 0.51211073],\n",
       "       [0.81451613, 0.18548387],\n",
       "       [0.48788927, 0.51211073],\n",
       "       [0.48788927, 0.51211073],\n",
       "       [0.81451613, 0.18548387],\n",
       "       [0.81451613, 0.18548387],\n",
       "       [0.81451613, 0.18548387],\n",
       "       [0.81451613, 0.18548387],\n",
       "       [0.48788927, 0.51211073],\n",
       "       [0.48788927, 0.51211073],\n",
       "       [0.81451613, 0.18548387],\n",
       "       [0.81451613, 0.18548387],\n",
       "       [0.81451613, 0.18548387],\n",
       "       [0.81451613, 0.18548387],\n",
       "       [0.81451613, 0.18548387],\n",
       "       [0.48788927, 0.51211073],\n",
       "       [0.81451613, 0.18548387],\n",
       "       [0.48788927, 0.51211073],\n",
       "       [0.81451613, 0.18548387],\n",
       "       [0.81451613, 0.18548387],\n",
       "       [0.81451613, 0.18548387],\n",
       "       [0.81451613, 0.18548387],\n",
       "       [0.81451613, 0.18548387],\n",
       "       [0.48788927, 0.51211073],\n",
       "       [0.81451613, 0.18548387],\n",
       "       [0.48788927, 0.51211073],\n",
       "       [0.48788927, 0.51211073],\n",
       "       [0.81451613, 0.18548387],\n",
       "       [0.81451613, 0.18548387],\n",
       "       [0.48788927, 0.51211073],\n",
       "       [0.81451613, 0.18548387],\n",
       "       [0.81451613, 0.18548387],\n",
       "       [0.48788927, 0.51211073],\n",
       "       [0.48788927, 0.51211073],\n",
       "       [0.48788927, 0.51211073],\n",
       "       [0.81451613, 0.18548387],\n",
       "       [0.81451613, 0.18548387],\n",
       "       [0.48788927, 0.51211073],\n",
       "       [0.48788927, 0.51211073],\n",
       "       [0.48788927, 0.51211073],\n",
       "       [0.48788927, 0.51211073],\n",
       "       [0.48788927, 0.51211073],\n",
       "       [0.48788927, 0.51211073],\n",
       "       [0.81451613, 0.18548387],\n",
       "       [0.48788927, 0.51211073],\n",
       "       [0.81451613, 0.18548387],\n",
       "       [0.48788927, 0.51211073],\n",
       "       [0.81451613, 0.18548387],\n",
       "       [0.48788927, 0.51211073],\n",
       "       [0.48788927, 0.51211073],\n",
       "       [0.48788927, 0.51211073],\n",
       "       [0.48788927, 0.51211073],\n",
       "       [0.48788927, 0.51211073],\n",
       "       [0.48788927, 0.51211073],\n",
       "       [0.81451613, 0.18548387],\n",
       "       [0.81451613, 0.18548387],\n",
       "       [0.81451613, 0.18548387],\n",
       "       [0.81451613, 0.18548387],\n",
       "       [0.48788927, 0.51211073],\n",
       "       [0.81451613, 0.18548387],\n",
       "       [0.48788927, 0.51211073],\n",
       "       [0.48788927, 0.51211073],\n",
       "       [0.81451613, 0.18548387],\n",
       "       [0.48788927, 0.51211073],\n",
       "       [0.81451613, 0.18548387],\n",
       "       [0.81451613, 0.18548387],\n",
       "       [0.81451613, 0.18548387],\n",
       "       [0.48788927, 0.51211073],\n",
       "       [0.81451613, 0.18548387],\n",
       "       [0.48788927, 0.51211073],\n",
       "       [0.81451613, 0.18548387],\n",
       "       [0.48788927, 0.51211073],\n",
       "       [0.48788927, 0.51211073],\n",
       "       [0.81451613, 0.18548387],\n",
       "       [0.81451613, 0.18548387],\n",
       "       [0.48788927, 0.51211073],\n",
       "       [0.81451613, 0.18548387],\n",
       "       [0.81451613, 0.18548387],\n",
       "       [0.48788927, 0.51211073],\n",
       "       [0.81451613, 0.18548387],\n",
       "       [0.81451613, 0.18548387],\n",
       "       [0.48788927, 0.51211073],\n",
       "       [0.48788927, 0.51211073],\n",
       "       [0.81451613, 0.18548387],\n",
       "       [0.48788927, 0.51211073],\n",
       "       [0.48788927, 0.51211073],\n",
       "       [0.48788927, 0.51211073],\n",
       "       [0.81451613, 0.18548387],\n",
       "       [0.48788927, 0.51211073],\n",
       "       [0.81451613, 0.18548387],\n",
       "       [0.81451613, 0.18548387],\n",
       "       [0.81451613, 0.18548387],\n",
       "       [0.48788927, 0.51211073],\n",
       "       [0.48788927, 0.51211073],\n",
       "       [0.48788927, 0.51211073],\n",
       "       [0.81451613, 0.18548387],\n",
       "       [0.48788927, 0.51211073],\n",
       "       [0.81451613, 0.18548387],\n",
       "       [0.81451613, 0.18548387],\n",
       "       [0.81451613, 0.18548387],\n",
       "       [0.48788927, 0.51211073],\n",
       "       [0.48788927, 0.51211073],\n",
       "       [0.81451613, 0.18548387],\n",
       "       [0.81451613, 0.18548387],\n",
       "       [0.81451613, 0.18548387],\n",
       "       [0.81451613, 0.18548387],\n",
       "       [0.81451613, 0.18548387],\n",
       "       [0.48788927, 0.51211073],\n",
       "       [0.48788927, 0.51211073],\n",
       "       [0.48788927, 0.51211073],\n",
       "       [0.48788927, 0.51211073],\n",
       "       [0.81451613, 0.18548387],\n",
       "       [0.81451613, 0.18548387],\n",
       "       [0.81451613, 0.18548387],\n",
       "       [0.48788927, 0.51211073],\n",
       "       [0.81451613, 0.18548387],\n",
       "       [0.48788927, 0.51211073],\n",
       "       [0.48788927, 0.51211073],\n",
       "       [0.81451613, 0.18548387],\n",
       "       [0.48788927, 0.51211073],\n",
       "       [0.48788927, 0.51211073],\n",
       "       [0.81451613, 0.18548387],\n",
       "       [0.48788927, 0.51211073],\n",
       "       [0.81451613, 0.18548387],\n",
       "       [0.81451613, 0.18548387],\n",
       "       [0.81451613, 0.18548387],\n",
       "       [0.81451613, 0.18548387],\n",
       "       [0.48788927, 0.51211073],\n",
       "       [0.81451613, 0.18548387],\n",
       "       [0.81451613, 0.18548387],\n",
       "       [0.81451613, 0.18548387],\n",
       "       [0.48788927, 0.51211073],\n",
       "       [0.48788927, 0.51211073],\n",
       "       [0.48788927, 0.51211073],\n",
       "       [0.48788927, 0.51211073],\n",
       "       [0.81451613, 0.18548387],\n",
       "       [0.81451613, 0.18548387],\n",
       "       [0.48788927, 0.51211073],\n",
       "       [0.81451613, 0.18548387],\n",
       "       [0.48788927, 0.51211073],\n",
       "       [0.81451613, 0.18548387],\n",
       "       [0.81451613, 0.18548387],\n",
       "       [0.48788927, 0.51211073],\n",
       "       [0.81451613, 0.18548387],\n",
       "       [0.48788927, 0.51211073],\n",
       "       [0.48788927, 0.51211073],\n",
       "       [0.48788927, 0.51211073],\n",
       "       [0.48788927, 0.51211073],\n",
       "       [0.81451613, 0.18548387],\n",
       "       [0.48788927, 0.51211073],\n",
       "       [0.48788927, 0.51211073],\n",
       "       [0.81451613, 0.18548387],\n",
       "       [0.81451613, 0.18548387],\n",
       "       [0.48788927, 0.51211073],\n",
       "       [0.48788927, 0.51211073],\n",
       "       [0.81451613, 0.18548387],\n",
       "       [0.81451613, 0.18548387],\n",
       "       [0.81451613, 0.18548387],\n",
       "       [0.48788927, 0.51211073],\n",
       "       [0.81451613, 0.18548387],\n",
       "       [0.48788927, 0.51211073],\n",
       "       [0.81451613, 0.18548387],\n",
       "       [0.81451613, 0.18548387],\n",
       "       [0.48788927, 0.51211073],\n",
       "       [0.48788927, 0.51211073],\n",
       "       [0.48788927, 0.51211073],\n",
       "       [0.81451613, 0.18548387],\n",
       "       [0.81451613, 0.18548387],\n",
       "       [0.48788927, 0.51211073],\n",
       "       [0.48788927, 0.51211073],\n",
       "       [0.81451613, 0.18548387],\n",
       "       [0.81451613, 0.18548387],\n",
       "       [0.48788927, 0.51211073],\n",
       "       [0.81451613, 0.18548387],\n",
       "       [0.81451613, 0.18548387],\n",
       "       [0.48788927, 0.51211073],\n",
       "       [0.48788927, 0.51211073],\n",
       "       [0.81451613, 0.18548387],\n",
       "       [0.81451613, 0.18548387],\n",
       "       [0.81451613, 0.18548387],\n",
       "       [0.81451613, 0.18548387],\n",
       "       [0.81451613, 0.18548387],\n",
       "       [0.81451613, 0.18548387],\n",
       "       [0.81451613, 0.18548387],\n",
       "       [0.81451613, 0.18548387],\n",
       "       [0.48788927, 0.51211073],\n",
       "       [0.81451613, 0.18548387],\n",
       "       [0.81451613, 0.18548387],\n",
       "       [0.48788927, 0.51211073],\n",
       "       [0.48788927, 0.51211073],\n",
       "       [0.81451613, 0.18548387],\n",
       "       [0.48788927, 0.51211073],\n",
       "       [0.48788927, 0.51211073],\n",
       "       [0.48788927, 0.51211073],\n",
       "       [0.81451613, 0.18548387],\n",
       "       [0.48788927, 0.51211073],\n",
       "       [0.48788927, 0.51211073],\n",
       "       [0.81451613, 0.18548387],\n",
       "       [0.48788927, 0.51211073],\n",
       "       [0.48788927, 0.51211073],\n",
       "       [0.48788927, 0.51211073],\n",
       "       [0.81451613, 0.18548387],\n",
       "       [0.81451613, 0.18548387],\n",
       "       [0.48788927, 0.51211073]])"
      ]
     },
     "execution_count": 12,
     "metadata": {},
     "output_type": "execute_result"
    }
   ],
   "source": [
    "#AUC ROC\n",
    "# Auc roc works on class probabilities. Although it can work on predictions of 0,1 as well but it works well with probabilities\n",
    "# class probabilities are indepedent of threshold because first class probabilites are calculated and then threshold is used\n",
    "#to predict 0 and 1. So auc will remain same for all threshold values\n",
    "# Using probs to generat class probabilities\n",
    "# probs array return two array- probability for negative class and probability for positive class\n",
    "probs = model.predict_proba(X_test)\n",
    "probs"
   ]
  },
  {
   "cell_type": "code",
   "execution_count": 13,
   "metadata": {},
   "outputs": [
    {
     "data": {
      "text/plain": [
       "array([0.18548387, 0.18548387, 0.18548387, 0.51211073, 0.51211073,\n",
       "       0.18548387, 0.51211073, 0.51211073, 0.18548387, 0.51211073,\n",
       "       0.18548387, 0.51211073, 0.51211073, 0.18548387, 0.51211073,\n",
       "       0.51211073, 0.51211073, 0.18548387, 0.51211073, 0.51211073,\n",
       "       0.51211073, 0.18548387, 0.18548387, 0.51211073, 0.18548387,\n",
       "       0.18548387, 0.18548387, 0.51211073, 0.18548387, 0.51211073,\n",
       "       0.51211073, 0.18548387, 0.18548387, 0.18548387, 0.18548387,\n",
       "       0.51211073, 0.51211073, 0.18548387, 0.18548387, 0.18548387,\n",
       "       0.18548387, 0.18548387, 0.51211073, 0.18548387, 0.51211073,\n",
       "       0.18548387, 0.18548387, 0.18548387, 0.18548387, 0.18548387,\n",
       "       0.51211073, 0.18548387, 0.51211073, 0.51211073, 0.18548387,\n",
       "       0.18548387, 0.51211073, 0.18548387, 0.18548387, 0.51211073,\n",
       "       0.51211073, 0.51211073, 0.18548387, 0.18548387, 0.51211073,\n",
       "       0.51211073, 0.51211073, 0.51211073, 0.51211073, 0.51211073,\n",
       "       0.18548387, 0.51211073, 0.18548387, 0.51211073, 0.18548387,\n",
       "       0.51211073, 0.51211073, 0.51211073, 0.51211073, 0.51211073,\n",
       "       0.51211073, 0.18548387, 0.18548387, 0.18548387, 0.18548387,\n",
       "       0.51211073, 0.18548387, 0.51211073, 0.51211073, 0.18548387,\n",
       "       0.51211073, 0.18548387, 0.18548387, 0.18548387, 0.51211073,\n",
       "       0.18548387, 0.51211073, 0.18548387, 0.51211073, 0.51211073,\n",
       "       0.18548387, 0.18548387, 0.51211073, 0.18548387, 0.18548387,\n",
       "       0.51211073, 0.18548387, 0.18548387, 0.51211073, 0.51211073,\n",
       "       0.18548387, 0.51211073, 0.51211073, 0.51211073, 0.18548387,\n",
       "       0.51211073, 0.18548387, 0.18548387, 0.18548387, 0.51211073,\n",
       "       0.51211073, 0.51211073, 0.18548387, 0.51211073, 0.18548387,\n",
       "       0.18548387, 0.18548387, 0.51211073, 0.51211073, 0.18548387,\n",
       "       0.18548387, 0.18548387, 0.18548387, 0.18548387, 0.51211073,\n",
       "       0.51211073, 0.51211073, 0.51211073, 0.18548387, 0.18548387,\n",
       "       0.18548387, 0.51211073, 0.18548387, 0.51211073, 0.51211073,\n",
       "       0.18548387, 0.51211073, 0.51211073, 0.18548387, 0.51211073,\n",
       "       0.18548387, 0.18548387, 0.18548387, 0.18548387, 0.51211073,\n",
       "       0.18548387, 0.18548387, 0.18548387, 0.51211073, 0.51211073,\n",
       "       0.51211073, 0.51211073, 0.18548387, 0.18548387, 0.51211073,\n",
       "       0.18548387, 0.51211073, 0.18548387, 0.18548387, 0.51211073,\n",
       "       0.18548387, 0.51211073, 0.51211073, 0.51211073, 0.51211073,\n",
       "       0.18548387, 0.51211073, 0.51211073, 0.18548387, 0.18548387,\n",
       "       0.51211073, 0.51211073, 0.18548387, 0.18548387, 0.18548387,\n",
       "       0.51211073, 0.18548387, 0.51211073, 0.18548387, 0.18548387,\n",
       "       0.51211073, 0.51211073, 0.51211073, 0.18548387, 0.18548387,\n",
       "       0.51211073, 0.51211073, 0.18548387, 0.18548387, 0.51211073,\n",
       "       0.18548387, 0.18548387, 0.51211073, 0.51211073, 0.18548387,\n",
       "       0.18548387, 0.18548387, 0.18548387, 0.18548387, 0.18548387,\n",
       "       0.18548387, 0.18548387, 0.51211073, 0.18548387, 0.18548387,\n",
       "       0.51211073, 0.51211073, 0.18548387, 0.51211073, 0.51211073,\n",
       "       0.51211073, 0.18548387, 0.51211073, 0.51211073, 0.18548387,\n",
       "       0.51211073, 0.51211073, 0.51211073, 0.18548387, 0.18548387,\n",
       "       0.51211073])"
      ]
     },
     "execution_count": 13,
     "metadata": {},
     "output_type": "execute_result"
    }
   ],
   "source": [
    "#Probability for positive class\n",
    "y_pred_prob = probs[:, 1]\n",
    "y_pred_prob"
   ]
  },
  {
   "cell_type": "code",
   "execution_count": 14,
   "metadata": {},
   "outputs": [
    {
     "name": "stdout",
     "output_type": "stream",
     "text": [
      "Area under the ROC curve : 0.630444\n"
     ]
    }
   ],
   "source": [
    "#AUC ROC curve\n",
    "fpr, tpr, thresholds = metrics.roc_curve(y_test, y_pred_prob)\n",
    "roc_auc = metrics.auc(fpr, tpr)\n",
    "print(\"Area under the ROC curve : %f\" % roc_auc)\n",
    "\n",
    "# fpr, tpr, thresholds = metrics.roc_curve(y_test, y_pred)\n",
    "# roc_auc = metrics.auc(fpr, tpr)\n",
    "# print(\"Area under the ROC curve : %f\" % roc_auc)"
   ]
  },
  {
   "cell_type": "code",
   "execution_count": 15,
   "metadata": {},
   "outputs": [
    {
     "data": {
      "text/plain": [
       "array([1.51211073, 0.51211073, 0.18548387])"
      ]
     },
     "execution_count": 15,
     "metadata": {},
     "output_type": "execute_result"
    }
   ],
   "source": [
    "thresholds"
   ]
  },
  {
   "cell_type": "code",
   "execution_count": 16,
   "metadata": {},
   "outputs": [
    {
     "name": "stdout",
     "output_type": "stream",
     "text": [
      "        fpr       tpr     1-fpr\n",
      "0  0.000000  0.000000  1.000000\n",
      "1  0.401274  0.662162  0.598726\n",
      "2  1.000000  1.000000  0.000000\n"
     ]
    }
   ],
   "source": [
    "#Which Error is Costly??\n",
    "i = np.arange(len(tpr)) # index for df\n",
    "roc = pd.DataFrame({'fpr' : pd.Series(fpr, index=i),'tpr' : pd.Series(tpr,\n",
    "index = i),'1-fpr' : pd.Series(1-fpr, index = i)})\n",
    "print(roc)"
   ]
  },
  {
   "cell_type": "code",
   "execution_count": 17,
   "metadata": {},
   "outputs": [
    {
     "name": "stdout",
     "output_type": "stream",
     "text": [
      "               fpr       tpr     1-fpr\n",
      "1.512111  0.000000  0.000000  1.000000\n",
      "0.512111  0.401274  0.662162  0.598726\n",
      "0.185484  1.000000  1.000000  0.000000\n"
     ]
    }
   ],
   "source": [
    "#Which Error is Costly??\n",
    "#i = np.arange(len(tpr)) # index for df\n",
    "roc_with_threshold = pd.DataFrame({'fpr' : pd.Series(fpr, index=thresholds),'tpr' : pd.Series(tpr,\n",
    "index = thresholds),'1-fpr' : pd.Series(1-fpr, index = thresholds)})\n",
    "print(roc_with_threshold)"
   ]
  }
 ],
 "metadata": {
  "kernelspec": {
   "display_name": "Python 3",
   "language": "python",
   "name": "python3"
  },
  "language_info": {
   "codemirror_mode": {
    "name": "ipython",
    "version": 3
   },
   "file_extension": ".py",
   "mimetype": "text/x-python",
   "name": "python",
   "nbconvert_exporter": "python",
   "pygments_lexer": "ipython3",
   "version": "3.8.5"
  }
 },
 "nbformat": 4,
 "nbformat_minor": 2
}
