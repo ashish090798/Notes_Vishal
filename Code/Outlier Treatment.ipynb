{
 "cells": [
  {
   "cell_type": "code",
   "execution_count": 1,
   "metadata": {},
   "outputs": [],
   "source": [
    "import numpy as np\n",
    "import pandas as pd\n",
    "import matplotlib.pyplot as plt\n",
    "%matplotlib inline\n",
    "import seaborn as sns"
   ]
  },
  {
   "cell_type": "code",
   "execution_count": 2,
   "metadata": {},
   "outputs": [],
   "source": [
    "data = {'Age':[-500, -600, 25,22,26,24,17,3,2,1,35,95,98], 'Salary':[12000, 25000, 17000, 18000, 19000, 20000, 4500, 5400, 8000,90000, 80000, 5000, 3000]}\n",
    "df = pd.DataFrame(data)"
   ]
  },
  {
   "cell_type": "code",
   "execution_count": 7,
   "metadata": {},
   "outputs": [
    {
     "name": "stdout",
     "output_type": "stream",
     "text": [
      "[[2.07721243 0.42837571]\n",
      " [2.54700648 0.05138237]\n",
      " [0.3892063  0.24385337]\n",
      " [0.37511247 0.2069489 ]\n",
      " [0.39390424 0.17004443]\n",
      " [0.38450836 0.13313997]\n",
      " [0.35162277 0.70515922]\n",
      " [0.28585161 0.6719452 ]\n",
      " [0.28115367 0.57599358]\n",
      " [0.27645573 2.4501728 ]\n",
      " [0.4361857  2.08112812]\n",
      " [0.71806213 0.68670699]\n",
      " [0.73215595 0.76051592]]\n"
     ]
    }
   ],
   "source": [
    "#Z score \n",
    "from scipy import stats\n",
    "zscore=np.abs(stats.zscore(df))\n",
    "print(zscore)"
   ]
  },
  {
   "cell_type": "code",
   "execution_count": 8,
   "metadata": {},
   "outputs": [
    {
     "name": "stdout",
     "output_type": "stream",
     "text": [
      "(13, 2)\n",
      "(9, 2)\n"
     ]
    }
   ],
   "source": [
    "threshold=2\n",
    "df_clean=df\n",
    "df_clean=df_clean[(zscore<threshold).all(axis=1)]\n",
    "print(df.shape)\n",
    "print(df_clean.shape)"
   ]
  },
  {
   "cell_type": "code",
   "execution_count": 37,
   "metadata": {},
   "outputs": [],
   "source": [
    "#IQR"
   ]
  },
  {
   "cell_type": "code",
   "execution_count": 41,
   "metadata": {},
   "outputs": [],
   "source": [
    "# df_iqr=df\n",
    "# Q1=df_iqr.quantile(0.25)\n",
    "# Q3=df_iqr.quantile(0.75)\n",
    "# IQR=Q3-Q1\n",
    "# df_iqr=df_iqr[~(df_iqr<(Q1-1.5*IQR))|(df_iqr>(Q3+1.5*IQR))]\n",
    "# df_iqr.shape\n",
    "# df_iqr"
   ]
  },
  {
   "cell_type": "code",
   "execution_count": 14,
   "metadata": {},
   "outputs": [],
   "source": [
    "def Outliers(column_name):\n",
    "    for j in column_name:\n",
    "        Q3=df[j].quantile(0.75)\n",
    "        Q1=df[j].quantile(0.25)\n",
    "        IQR = df[j].quantile(0.75) - df[j].quantile(0.25)\n",
    "        H=1.5*IQR\n",
    "        Upper_Whiskar = Q3+H\n",
    "        Lower_Whiskar = Q1-H\n",
    "        Q95 = df[j].quantile(0.95)\n",
    "        Q05 = df[j].quantile(0.05)\n",
    "    \n",
    "        print('Q3 for ',j, ': ', Q3)\n",
    "        print('Q1 for ',j,': ', Q1)\n",
    "        print('IQR for ',j,': ', IQR)\n",
    "        print('H for ',j,': ', H)\n",
    "        print('Upper Whiskar for ',j,': ', Upper_Whiskar)\n",
    "        print('Lower Whiskar for ',j,': ', Lower_Whiskar)\n",
    "    \n",
    "        print('95th Quantile for ',j,': ', Q95)\n",
    "        print('5th Quantile for',j,': ', Q05)\n",
    "        ##df3[j] = df[j].clip(lower=Lower_Whiskar,upper = Upper_Whiskar, inplace=False)\n",
    "        ##df[j].clip(lower=Lower_Whiskar,upper = Upper_Whiskar, inplace=True)\n",
    "        for i in df[j].index.tolist():\n",
    "            if(df.at[i,j]<Lower_Whiskar):\n",
    "                df.at[i,j]= Q05\n",
    "            if(df.at[i,j]>Upper_Whiskar):\n",
    "                df.at[i,j]=Q95\n",
    "\n",
    "            "
   ]
  },
  {
   "cell_type": "code",
   "execution_count": 15,
   "metadata": {},
   "outputs": [
    {
     "name": "stdout",
     "output_type": "stream",
     "text": [
      "Q3 for  Age :  26.0\n",
      "Q1 for  Age :  2.0\n",
      "IQR for  Age :  24.0\n",
      "H for  Age :  36.0\n",
      "Upper Whiskar for  Age :  62.0\n",
      "Lower Whiskar for  Age :  -34.0\n",
      "95th Quantile for  Age :  96.19999999999999\n",
      "5th Quantile for Age :  -540.0\n",
      "Q3 for  Salary :  20000.0\n",
      "Q1 for  Salary :  5400.0\n",
      "IQR for  Salary :  14600.0\n",
      "H for  Salary :  21900.0\n",
      "Upper Whiskar for  Salary :  41900.0\n",
      "Lower Whiskar for  Salary :  -16500.0\n",
      "95th Quantile for  Salary :  83999.99999999999\n",
      "5th Quantile for Salary :  3900.0\n"
     ]
    },
    {
     "data": {
      "text/html": [
       "<div>\n",
       "<style scoped>\n",
       "    .dataframe tbody tr th:only-of-type {\n",
       "        vertical-align: middle;\n",
       "    }\n",
       "\n",
       "    .dataframe tbody tr th {\n",
       "        vertical-align: top;\n",
       "    }\n",
       "\n",
       "    .dataframe thead th {\n",
       "        text-align: right;\n",
       "    }\n",
       "</style>\n",
       "<table border=\"1\" class=\"dataframe\">\n",
       "  <thead>\n",
       "    <tr style=\"text-align: right;\">\n",
       "      <th></th>\n",
       "      <th>Age</th>\n",
       "      <th>Salary</th>\n",
       "    </tr>\n",
       "  </thead>\n",
       "  <tbody>\n",
       "    <tr>\n",
       "      <th>0</th>\n",
       "      <td>-540</td>\n",
       "      <td>12000</td>\n",
       "    </tr>\n",
       "    <tr>\n",
       "      <th>1</th>\n",
       "      <td>-540</td>\n",
       "      <td>25000</td>\n",
       "    </tr>\n",
       "    <tr>\n",
       "      <th>2</th>\n",
       "      <td>25</td>\n",
       "      <td>17000</td>\n",
       "    </tr>\n",
       "    <tr>\n",
       "      <th>3</th>\n",
       "      <td>22</td>\n",
       "      <td>18000</td>\n",
       "    </tr>\n",
       "    <tr>\n",
       "      <th>4</th>\n",
       "      <td>26</td>\n",
       "      <td>19000</td>\n",
       "    </tr>\n",
       "    <tr>\n",
       "      <th>5</th>\n",
       "      <td>24</td>\n",
       "      <td>20000</td>\n",
       "    </tr>\n",
       "    <tr>\n",
       "      <th>6</th>\n",
       "      <td>17</td>\n",
       "      <td>4500</td>\n",
       "    </tr>\n",
       "    <tr>\n",
       "      <th>7</th>\n",
       "      <td>3</td>\n",
       "      <td>5400</td>\n",
       "    </tr>\n",
       "    <tr>\n",
       "      <th>8</th>\n",
       "      <td>2</td>\n",
       "      <td>8000</td>\n",
       "    </tr>\n",
       "    <tr>\n",
       "      <th>9</th>\n",
       "      <td>1</td>\n",
       "      <td>83999</td>\n",
       "    </tr>\n",
       "    <tr>\n",
       "      <th>10</th>\n",
       "      <td>35</td>\n",
       "      <td>83999</td>\n",
       "    </tr>\n",
       "    <tr>\n",
       "      <th>11</th>\n",
       "      <td>96</td>\n",
       "      <td>5000</td>\n",
       "    </tr>\n",
       "    <tr>\n",
       "      <th>12</th>\n",
       "      <td>96</td>\n",
       "      <td>3000</td>\n",
       "    </tr>\n",
       "  </tbody>\n",
       "</table>\n",
       "</div>"
      ],
      "text/plain": [
       "    Age  Salary\n",
       "0  -540   12000\n",
       "1  -540   25000\n",
       "2    25   17000\n",
       "3    22   18000\n",
       "4    26   19000\n",
       "5    24   20000\n",
       "6    17    4500\n",
       "7     3    5400\n",
       "8     2    8000\n",
       "9     1   83999\n",
       "10   35   83999\n",
       "11   96    5000\n",
       "12   96    3000"
      ]
     },
     "execution_count": 15,
     "metadata": {},
     "output_type": "execute_result"
    }
   ],
   "source": [
    "Outliers(['Age', 'Salary'])\n",
    "df"
   ]
  },
  {
   "cell_type": "code",
   "execution_count": 25,
   "metadata": {},
   "outputs": [],
   "source": [
    "#Log Transform"
   ]
  },
  {
   "cell_type": "code",
   "execution_count": 16,
   "metadata": {},
   "outputs": [
    {
     "data": {
      "text/plain": [
       "<AxesSubplot:>"
      ]
     },
     "execution_count": 16,
     "metadata": {},
     "output_type": "execute_result"
    },
    {
     "data": {
      "image/png": "[encoded data removed]",
      "text/plain": [
       "<Figure size 432x288 with 1 Axes>"
      ]
     },
     "metadata": {
      "needs_background": "light"
     },
     "output_type": "display_data"
    }
   ],
   "source": [
    "sns.boxplot(data=df['Age'])"
   ]
  },
  {
   "cell_type": "code",
   "execution_count": 17,
   "metadata": {},
   "outputs": [
    {
     "name": "stderr",
     "output_type": "stream",
     "text": [
      "C:\\Users\\vish\\anaconda3_64\\lib\\site-packages\\pandas\\core\\series.py:726: RuntimeWarning: invalid value encountered in log10\n",
      "  result = getattr(ufunc, method)(*inputs, **kwargs)\n"
     ]
    },
    {
     "data": {
      "text/plain": [
       "<AxesSubplot:>"
      ]
     },
     "execution_count": 17,
     "metadata": {},
     "output_type": "execute_result"
    },
    {
     "data": {
      "image/png": "[encoded data removed]",
      "text/plain": [
       "<Figure size 432x288 with 1 Axes>"
      ]
     },
     "metadata": {
      "needs_background": "light"
     },
     "output_type": "display_data"
    }
   ],
   "source": [
    "sns.boxplot(data=np.log10(df['Age']))"
   ]
  }
 ],
 "metadata": {
  "kernelspec": {
   "display_name": "Python 3",
   "language": "python",
   "name": "python3"
  },
  "language_info": {
   "codemirror_mode": {
    "name": "ipython",
    "version": 3
   },
   "file_extension": ".py",
   "mimetype": "text/x-python",
   "name": "python",
   "nbconvert_exporter": "python",
   "pygments_lexer": "ipython3",
   "version": "3.8.5"
  }
 },
 "nbformat": 4,
 "nbformat_minor": 2
}
