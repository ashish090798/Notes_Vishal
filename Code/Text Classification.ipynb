{
 "cells": [
  {
   "cell_type": "code",
   "execution_count": 1,
   "metadata": {},
   "outputs": [],
   "source": [
    "import nltk\n",
    "import pandas as pd\n",
    "pd.set_option('display.max_colwidth',100)\n",
    "import re\n",
    "import string\n",
    "#nltk.download()\n",
    "#python -m nltk.downloader all - from command line\n",
    "#nltk.download('punkt')\n",
    "#nltk.download('stopwords')\n",
    "from nltk.tokenize import word_tokenize\n",
    "from nltk.corpus import stopwords\n",
    "from nltk.stem.porter import PorterStemmer\n",
    "from nltk.stem import WordNetLemmatizer \n",
    "from collections import defaultdict\n",
    "from nltk import pos_tag\n",
    "from sklearn.model_selection import train_test_split\n",
    "from sklearn.preprocessing import LabelEncoder\n",
    "from sklearn.feature_extraction.text import CountVectorizer,TfidfVectorizer\n",
    "from sklearn.linear_model import LogisticRegression\n",
    "from sklearn.metrics import accuracy_score"
   ]
  },
  {
   "cell_type": "code",
   "execution_count": null,
   "metadata": {},
   "outputs": [],
   "source": [
    "#Preparing dataset"
   ]
  },
  {
   "cell_type": "code",
   "execution_count": 2,
   "metadata": {},
   "outputs": [],
   "source": [
    "text=pd.read_csv('https://raw.githubusercontent.com/susanli2016/Machine-Learning-with-Python/master/research_paper.csv')"
   ]
  },
  {
   "cell_type": "code",
   "execution_count": 3,
   "metadata": {},
   "outputs": [
    {
     "data": {
      "text/html": [
       "<div>\n",
       "<style scoped>\n",
       "    .dataframe tbody tr th:only-of-type {\n",
       "        vertical-align: middle;\n",
       "    }\n",
       "\n",
       "    .dataframe tbody tr th {\n",
       "        vertical-align: top;\n",
       "    }\n",
       "\n",
       "    .dataframe thead th {\n",
       "        text-align: right;\n",
       "    }\n",
       "</style>\n",
       "<table border=\"1\" class=\"dataframe\">\n",
       "  <thead>\n",
       "    <tr style=\"text-align: right;\">\n",
       "      <th></th>\n",
       "      <th>Title</th>\n",
       "      <th>Conference</th>\n",
       "    </tr>\n",
       "  </thead>\n",
       "  <tbody>\n",
       "    <tr>\n",
       "      <th>0</th>\n",
       "      <td>Innovation in Database Management: Computer Science vs. Engineering.</td>\n",
       "      <td>VLDB</td>\n",
       "    </tr>\n",
       "    <tr>\n",
       "      <th>1</th>\n",
       "      <td>High performance prime field multiplication for GPU.</td>\n",
       "      <td>ISCAS</td>\n",
       "    </tr>\n",
       "    <tr>\n",
       "      <th>2</th>\n",
       "      <td>enchanted scissors: a scissor interface for support in cutting and interactive fabrication.</td>\n",
       "      <td>SIGGRAPH</td>\n",
       "    </tr>\n",
       "    <tr>\n",
       "      <th>3</th>\n",
       "      <td>Detection of channel degradation attack by Intermediary Node in Linear Networks.</td>\n",
       "      <td>INFOCOM</td>\n",
       "    </tr>\n",
       "    <tr>\n",
       "      <th>4</th>\n",
       "      <td>Pinning a Complex Network through the Betweenness Centrality Strategy.</td>\n",
       "      <td>ISCAS</td>\n",
       "    </tr>\n",
       "  </tbody>\n",
       "</table>\n",
       "</div>"
      ],
      "text/plain": [
       "                                                                                         Title  \\\n",
       "0                         Innovation in Database Management: Computer Science vs. Engineering.   \n",
       "1                                         High performance prime field multiplication for GPU.   \n",
       "2  enchanted scissors: a scissor interface for support in cutting and interactive fabrication.   \n",
       "3             Detection of channel degradation attack by Intermediary Node in Linear Networks.   \n",
       "4                       Pinning a Complex Network through the Betweenness Centrality Strategy.   \n",
       "\n",
       "  Conference  \n",
       "0       VLDB  \n",
       "1      ISCAS  \n",
       "2   SIGGRAPH  \n",
       "3    INFOCOM  \n",
       "4      ISCAS  "
      ]
     },
     "execution_count": 3,
     "metadata": {},
     "output_type": "execute_result"
    }
   ],
   "source": [
    "text.head()"
   ]
  },
  {
   "cell_type": "code",
   "execution_count": 4,
   "metadata": {},
   "outputs": [],
   "source": [
    "text=text.loc[(text['Conference']=='VLDB') | (text['Conference']=='ISCAS')]"
   ]
  },
  {
   "cell_type": "code",
   "execution_count": 5,
   "metadata": {},
   "outputs": [
    {
     "data": {
      "text/html": [
       "<div>\n",
       "<style scoped>\n",
       "    .dataframe tbody tr th:only-of-type {\n",
       "        vertical-align: middle;\n",
       "    }\n",
       "\n",
       "    .dataframe tbody tr th {\n",
       "        vertical-align: top;\n",
       "    }\n",
       "\n",
       "    .dataframe thead th {\n",
       "        text-align: right;\n",
       "    }\n",
       "</style>\n",
       "<table border=\"1\" class=\"dataframe\">\n",
       "  <thead>\n",
       "    <tr style=\"text-align: right;\">\n",
       "      <th></th>\n",
       "      <th>Title</th>\n",
       "      <th>Conference</th>\n",
       "    </tr>\n",
       "  </thead>\n",
       "  <tbody>\n",
       "    <tr>\n",
       "      <th>0</th>\n",
       "      <td>Innovation in Database Management: Computer Science vs. Engineering.</td>\n",
       "      <td>VLDB</td>\n",
       "    </tr>\n",
       "    <tr>\n",
       "      <th>1</th>\n",
       "      <td>High performance prime field multiplication for GPU.</td>\n",
       "      <td>ISCAS</td>\n",
       "    </tr>\n",
       "    <tr>\n",
       "      <th>4</th>\n",
       "      <td>Pinning a Complex Network through the Betweenness Centrality Strategy.</td>\n",
       "      <td>ISCAS</td>\n",
       "    </tr>\n",
       "    <tr>\n",
       "      <th>5</th>\n",
       "      <td>Analysis and Design of Memoryless Interconnect Encoding Scheme.</td>\n",
       "      <td>ISCAS</td>\n",
       "    </tr>\n",
       "    <tr>\n",
       "      <th>9</th>\n",
       "      <td>A &amp;#916;&amp;#931; IR-UWB radar with sub-mm ranging capability for human body monitoring systems.</td>\n",
       "      <td>ISCAS</td>\n",
       "    </tr>\n",
       "  </tbody>\n",
       "</table>\n",
       "</div>"
      ],
      "text/plain": [
       "                                                                                           Title  \\\n",
       "0                           Innovation in Database Management: Computer Science vs. Engineering.   \n",
       "1                                           High performance prime field multiplication for GPU.   \n",
       "4                         Pinning a Complex Network through the Betweenness Centrality Strategy.   \n",
       "5                                Analysis and Design of Memoryless Interconnect Encoding Scheme.   \n",
       "9  A &#916;&#931; IR-UWB radar with sub-mm ranging capability for human body monitoring systems.   \n",
       "\n",
       "  Conference  \n",
       "0       VLDB  \n",
       "1      ISCAS  \n",
       "4      ISCAS  \n",
       "5      ISCAS  \n",
       "9      ISCAS  "
      ]
     },
     "execution_count": 5,
     "metadata": {},
     "output_type": "execute_result"
    }
   ],
   "source": [
    "text.head()"
   ]
  },
  {
   "cell_type": "code",
   "execution_count": null,
   "metadata": {},
   "outputs": [],
   "source": [
    "#Text Preprocessing"
   ]
  },
  {
   "cell_type": "code",
   "execution_count": 29,
   "metadata": {},
   "outputs": [],
   "source": [
    "def clean_text_into_sentences(text):\n",
    "    text_output=re.split('\\W+',text)\n",
    "    text_output=[word.lower() for word in text_output]\n",
    "    text_output=[w for w in text_output if w not in string.punctuation]\n",
    "    text_output=[w for w in text_output if w.isalpha()]\n",
    "    stop_words = stopwords.words('english')\n",
    "    text_output=[w for w in text_output if w not in stop_words]\n",
    "    lemmatizer = WordNetLemmatizer()\n",
    "    text_output=\" \".join([lemmatizer.lemmatize(w) for w in text_output])\n",
    "    return text_output\n",
    "\n",
    "text['cleaned_text']=text['Title'].apply(lambda x: clean_text_into_sentences(x))"
   ]
  },
  {
   "cell_type": "code",
   "execution_count": 42,
   "metadata": {},
   "outputs": [],
   "source": [
    "# def clean_text_into_tokens(text):\n",
    "#     text_output=re.split('\\W+',text)\n",
    "#     text_output=[word.lower() for word in text_output]\n",
    "#     text_output=[w for w in text_output if w not in string.punctuation]\n",
    "#     text_output=[w for w in text_output if w.isalpha()]\n",
    "#     stop_words = stopwords.words('english')\n",
    "#     text_output=[w for w in text_output if w not in stop_words]\n",
    "#     lemmatizer = WordNetLemmatizer()\n",
    "#     text_output=[lemmatizer.lemmatize(w) for w in text_output]\n",
    "#     return text_output"
   ]
  },
  {
   "cell_type": "code",
   "execution_count": 6,
   "metadata": {},
   "outputs": [],
   "source": [
    "#Count Vectorizer"
   ]
  },
  {
   "cell_type": "code",
   "execution_count": 44,
   "metadata": {},
   "outputs": [
    {
     "name": "stdout",
     "output_type": "stream",
     "text": [
      "Accuracy: 0.9409937888198758\n"
     ]
    }
   ],
   "source": [
    "# cv=CountVectorizer(analyzer=clean_text_into_tokens)\n",
    "# cv_fit=cv.fit_transform(text['Title'])\n",
    "# print(cv_fit.shape)\n",
    "# print(cv.vocabulary_)\n",
    "# print(cv.get_feature_names())\n",
    "# df_cv=pd.DataFrame(cv_fit.toarray(),columns=cv.get_feature_names())\n",
    "# df_cv.head()\n",
    "\n",
    "# cv_ngram=CountVectorizer(ngram_range=(2,2))\n",
    "# cv_ngram_fit=cv_ngram.fit_transform(text['cleaned_text'])\n",
    "# print(cv_ngram_fit.shape)\n",
    "# print(cv_ngram.vocabulary_)\n",
    "# print(cv_ngram.get_feature_names())\n",
    "# df_cv=pd.DataFrame(cv_ngram_fit.toarray(),columns=cv_ngram.get_feature_names())\n",
    "# df_cv.head()\n",
    "\n",
    "cv=CountVectorizer()\n",
    "cv_fit=cv.fit_transform(text['cleaned_text'])\n",
    "# print(cv_fit.shape)\n",
    "# print(cv.vocabulary_)\n",
    "# print(cv.get_feature_names())\n",
    "df_cv=pd.DataFrame(cv_fit.toarray(),columns=cv.get_feature_names())\n",
    "\n",
    "df_cv['Conference']=text['Conference'].tolist()\n",
    "\n",
    "x = df_cv.iloc[:, 0:2682].values\n",
    "y = df_cv.iloc[:, 2682].values\n",
    "\n",
    "from sklearn.preprocessing import LabelEncoder, OneHotEncoder\n",
    "encoder = LabelEncoder()\n",
    "y = encoder.fit_transform(y)\n",
    "\n",
    "train_x,test_x,train_y,test_y=train_test_split(x,y,test_size=0.25, random_state=1000)\n",
    "\n",
    "classifier = LogisticRegression()\n",
    "classifier.fit(train_x, train_y)\n",
    "score = classifier.score(test_x, test_y)\n",
    "print(\"Accuracy:\", score)\n",
    "Accuracy: 0.796"
   ]
  },
  {
   "cell_type": "code",
   "execution_count": null,
   "metadata": {},
   "outputs": [],
   "source": [
    "#Tfidf Vectorizer"
   ]
  },
  {
   "cell_type": "code",
   "execution_count": 43,
   "metadata": {},
   "outputs": [
    {
     "name": "stdout",
     "output_type": "stream",
     "text": [
      "Accuracy: 0.8975155279503105\n"
     ]
    }
   ],
   "source": [
    "# tfidf=TfidfVectorizer(analyzer=clean_text_into_tokens)\n",
    "# tfidf_fit=tfidf.fit_transform(text['Title'])\n",
    "# print(tfidf_fit.shape)\n",
    "# print(tfidf.vocabulary_)\n",
    "# print(tfidf.get_feature_names())\n",
    "# df_tfidf=pd.DataFrame(tfidf_fit.toarray(),columns=tfidf.get_feature_names())\n",
    "# df_tfidf.head()\n",
    "\n",
    "# tfidf_ngram=TfidfVectorizer(ngram_range=(2,2))\n",
    "# tfidf_ngram_fit=tfidf_ngram.fit_transform(text['cleaned_text'])\n",
    "# print(tfidf_ngram_fit.shape)\n",
    "# print(tfidf_ngram.vocabulary_)\n",
    "# print(tfidf_ngram.get_feature_names())\n",
    "# df=pd.DataFrame(tfidf_ngram_fit.toarray(),columns=tfidf_ngram.get_feature_names())\n",
    "# df.head()\n",
    "\n",
    "tfidf=TfidfVectorizer()\n",
    "tfidf_fit=tfidf.fit_transform(text['cleaned_text'])\n",
    "# print(tfidf_fit.shape)\n",
    "# print(tfidf.vocabulary_)\n",
    "# print(tfidf.get_feature_names())\n",
    "df_tfidf=pd.DataFrame(tfidf_fit.toarray(),columns=tfidf.get_feature_names())\n",
    "\n",
    "df_tfidf['Conference']=text['Conference'].tolist()\n",
    "\n",
    "x = df_tfidf.iloc[:, 0:2682].values\n",
    "y = df_tfidf.iloc[:, 2682].values\n",
    "\n",
    "from sklearn.preprocessing import LabelEncoder, OneHotEncoder\n",
    "encoder = LabelEncoder()\n",
    "y = encoder.fit_transform(y)\n",
    "\n",
    "train_x,test_x,train_y,test_y=train_test_split(x,y,test_size=0.25, random_state=1000)\n",
    "\n",
    "classifier = LogisticRegression()\n",
    "classifier.fit(train_x, train_y)\n",
    "score = classifier.score(test_x, test_y)\n",
    "print(\"Accuracy:\", score)\n",
    "Accuracy: 0.796"
   ]
  }
 ],
 "metadata": {
  "kernelspec": {
   "display_name": "Python 3",
   "language": "python",
   "name": "python3"
  },
  "language_info": {
   "codemirror_mode": {
    "name": "ipython",
    "version": 3
   },
   "file_extension": ".py",
   "mimetype": "text/x-python",
   "name": "python",
   "nbconvert_exporter": "python",
   "pygments_lexer": "ipython3",
   "version": "3.8.5"
  }
 },
 "nbformat": 4,
 "nbformat_minor": 2
}
