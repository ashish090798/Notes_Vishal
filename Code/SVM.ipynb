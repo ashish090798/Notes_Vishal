{
 "cells": [
  {
   "cell_type": "code",
   "execution_count": 1,
   "metadata": {},
   "outputs": [],
   "source": [
    "import pandas as pd\n",
    "import pylab as plt\n",
    "import numpy as np\n",
    "from sklearn.model_selection import train_test_split\n",
    "from sklearn.svm import SVR\n",
    "from sklearn.svm import SVC\n",
    "from sklearn import metrics"
   ]
  },
  {
   "cell_type": "code",
   "execution_count": 2,
   "metadata": {},
   "outputs": [],
   "source": [
    "import os\n",
    "os.chdir(r'C:\\Users\\Vish\\Documents\\Data\\Dataset')\n",
    "df = pd.read_csv(\"iris.csv\")"
   ]
  },
  {
   "cell_type": "code",
   "execution_count": 3,
   "metadata": {},
   "outputs": [
    {
     "data": {
      "text/html": [
       "<div>\n",
       "<style scoped>\n",
       "    .dataframe tbody tr th:only-of-type {\n",
       "        vertical-align: middle;\n",
       "    }\n",
       "\n",
       "    .dataframe tbody tr th {\n",
       "        vertical-align: top;\n",
       "    }\n",
       "\n",
       "    .dataframe thead th {\n",
       "        text-align: right;\n",
       "    }\n",
       "</style>\n",
       "<table border=\"1\" class=\"dataframe\">\n",
       "  <thead>\n",
       "    <tr style=\"text-align: right;\">\n",
       "      <th></th>\n",
       "      <th>Id</th>\n",
       "      <th>SepalLengthCm</th>\n",
       "      <th>SepalWidthCm</th>\n",
       "      <th>PetalLengthCm</th>\n",
       "      <th>PetalWidthCm</th>\n",
       "      <th>Species</th>\n",
       "    </tr>\n",
       "  </thead>\n",
       "  <tbody>\n",
       "    <tr>\n",
       "      <th>0</th>\n",
       "      <td>1</td>\n",
       "      <td>5.1</td>\n",
       "      <td>3.5</td>\n",
       "      <td>1.4</td>\n",
       "      <td>0.2</td>\n",
       "      <td>Iris-setosa</td>\n",
       "    </tr>\n",
       "    <tr>\n",
       "      <th>1</th>\n",
       "      <td>2</td>\n",
       "      <td>4.9</td>\n",
       "      <td>3.0</td>\n",
       "      <td>1.4</td>\n",
       "      <td>0.2</td>\n",
       "      <td>Iris-setosa</td>\n",
       "    </tr>\n",
       "    <tr>\n",
       "      <th>2</th>\n",
       "      <td>3</td>\n",
       "      <td>4.7</td>\n",
       "      <td>3.2</td>\n",
       "      <td>1.3</td>\n",
       "      <td>0.2</td>\n",
       "      <td>Iris-setosa</td>\n",
       "    </tr>\n",
       "    <tr>\n",
       "      <th>3</th>\n",
       "      <td>4</td>\n",
       "      <td>4.6</td>\n",
       "      <td>3.1</td>\n",
       "      <td>1.5</td>\n",
       "      <td>0.2</td>\n",
       "      <td>Iris-setosa</td>\n",
       "    </tr>\n",
       "    <tr>\n",
       "      <th>4</th>\n",
       "      <td>5</td>\n",
       "      <td>5.0</td>\n",
       "      <td>3.6</td>\n",
       "      <td>1.4</td>\n",
       "      <td>0.2</td>\n",
       "      <td>Iris-setosa</td>\n",
       "    </tr>\n",
       "  </tbody>\n",
       "</table>\n",
       "</div>"
      ],
      "text/plain": [
       "   Id  SepalLengthCm  SepalWidthCm  PetalLengthCm  PetalWidthCm      Species\n",
       "0   1            5.1           3.5            1.4           0.2  Iris-setosa\n",
       "1   2            4.9           3.0            1.4           0.2  Iris-setosa\n",
       "2   3            4.7           3.2            1.3           0.2  Iris-setosa\n",
       "3   4            4.6           3.1            1.5           0.2  Iris-setosa\n",
       "4   5            5.0           3.6            1.4           0.2  Iris-setosa"
      ]
     },
     "execution_count": 3,
     "metadata": {},
     "output_type": "execute_result"
    }
   ],
   "source": [
    "df.head()"
   ]
  },
  {
   "cell_type": "code",
   "execution_count": 4,
   "metadata": {},
   "outputs": [],
   "source": [
    "df.drop(['Id'],axis=1,inplace=True)"
   ]
  },
  {
   "cell_type": "code",
   "execution_count": 5,
   "metadata": {},
   "outputs": [],
   "source": [
    "df=df.replace({'Iris-setosa':0,'Iris-versicolor':1,'Iris-virginica':2})"
   ]
  },
  {
   "cell_type": "code",
   "execution_count": 6,
   "metadata": {},
   "outputs": [
    {
     "data": {
      "text/plain": [
       "2    50\n",
       "1    50\n",
       "0    50\n",
       "Name: Species, dtype: int64"
      ]
     },
     "execution_count": 6,
     "metadata": {},
     "output_type": "execute_result"
    }
   ],
   "source": [
    "#Checking class imbalance\n",
    "df.Species.value_counts()"
   ]
  },
  {
   "cell_type": "code",
   "execution_count": 7,
   "metadata": {},
   "outputs": [],
   "source": [
    "#Splitting the data into independent and dependent variables\n",
    "X = df.iloc[:,:4]\n",
    "y = df['Species'] "
   ]
  },
  {
   "cell_type": "code",
   "execution_count": 8,
   "metadata": {},
   "outputs": [],
   "source": [
    "#Creating the Training and Test set from data\n",
    "X_train, X_test, y_train, y_test = train_test_split(X, y, test_size=0.3,random_state=0)"
   ]
  },
  {
   "cell_type": "code",
   "execution_count": 9,
   "metadata": {},
   "outputs": [
    {
     "data": {
      "text/plain": [
       "SVC(C=1, decision_function_shape='ovo', gamma=10, probability=True,\n",
       "    random_state=1)"
      ]
     },
     "execution_count": 9,
     "metadata": {},
     "output_type": "execute_result"
    }
   ],
   "source": [
    "#Model building\n",
    "model = SVC(C=1,kernel=\"rbf\",gamma=10,probability=True,decision_function_shape=\"ovo\",random_state=1)\n",
    "#C:float, range-0-Inf, default=1.0--Regularization parameter. The strength of the regularization is inversely proportional to C. \n",
    "#Must be strictly positive. The penalty is a squared l2 penalty.\n",
    "#kernel: {\"linear\", \"poly\", \"rbf\", \"sigmoid\", \"precomputed\" ,[callable]} ,default=\"rb\"’--Specifies the kernel type to be used in the algorithm.\n",
    "#degree: int, default=3--Degree of the polynomial kernel function (\"poly\"). Ignored by all other kernels.\n",
    "#gamma:{\"scale\", \"auto\", float}, default=\"scale\"--Kernel coefficient for \"rbf\", \"poly\" and \"sigmoid\".\n",
    "#if gamma=\"scale\", then it uses 1 / (n_features * X.var()) as value of gamma, if \"auto\" it uses 1 / n_features.\n",
    "#coef0:float, default=0.0--Independent term in kernel function. It is only significant in \"poly\" and \"sigmoid\".\n",
    "#tol:float, default=1e-3--Tolerance for stopping criterion.\n",
    "#cache_size:float, default=200--Specify the size of the kernel cache (in MB).\n",
    "#max_iter: int, default=-1--Hard limit on iterations within solver, or -1 for no limit\n",
    "#shrinking:bool, default=True--Whether to use the shrinking heuristic\n",
    "#probability: boolean, default=False--Whether to enable probability estimates.\n",
    "#decision_function_shape:{\"ovo\", \"ovr\"}, default=\"ovr\".decision_function_shape{\"ovo\", \"ovr\"}, default=\"ovr\"--Whether to return a one-vs-rest (\"ovr\") decision function or one-vs-one (\"ovo\")\n",
    "#However, one-vs-one (\"ovo\") is always used as multi-class strategy. The parameter is ignored for binary classification.\n",
    "#random_state: int or RandomState, default=None--Can be used for generating reproducible results\n",
    "#class_weight:{dict, \"balanced\", None}, default=None--Set the parameter C of class i to class_weight[i]*C for SVC. \n",
    "#If not given, all classes are supposed to have weight one. The “balanced” mode uses the values of y to automatically adjust weights inversely proportional to class frequencies in the input data as n_samples / (n_classes * np.bincount(y))\n",
    "#break_ties:bool, default=False--If true and decision_function_shape='ovr' and number of classes > 2, predict will break ties according to the confidence values of decision_function, otherwise the first class among the tied classes is returned\n",
    "model.fit(X_train, y_train)"
   ]
  },
  {
   "cell_type": "code",
   "execution_count": 10,
   "metadata": {},
   "outputs": [],
   "source": [
    "#Model building\n",
    "#model = SVR(C=1,kernel='rbf',gamma=10,epsilon=0.5)\n",
    "#C:float, range-0-Inf, default=1.0--Regularization parameter. The strength of the regularization is inversely proportional to C. \n",
    "#Must be strictly positive. The penalty is a squared l2 penalty.\n",
    "#kernel: {\"linear\", \"poly\", \"rbf\", \"sigmoid\", \"precomputed\" ,[callable]} ,default=\"rb\"’--Specifies the kernel type to be used in the algorithm.\n",
    "#degree: int, default=3--Degree of the polynomial kernel function (\"poly\"). Ignored by all other kernels.\n",
    "#gamma:{\"scale\", \"auto\", float}, default=\"scale\"--Kernel coefficient for \"rbf\", \"poly\" and \"sigmoid\".\n",
    "#if gamma=\"scale\", then it uses 1 / (n_features * X.var()) as value of gamma, if \"auto\" it uses 1 / n_features.\n",
    "#coef0:float, default=0.0--Independent term in kernel function. It is only significant in \"poly\" and \"sigmoid\".\n",
    "#tol:float, default=1e-3--Tolerance for stopping criterion.\n",
    "#cache_size:float, default=200--Specify the size of the kernel cache (in MB).\n",
    "#max_iter: int, default=-1--Hard limit on iterations within solver, or -1 for no limit\n",
    "#shrinkingbool, default=True--Whether to use the shrinking heuristic.\n",
    "#epsilon:float, default=0.1--Epsilon in the epsilon-SVR model. It specifies the epsilon-tube within which no penalty is associated in the training loss function with points predicted within a distance epsilon from the actual value."
   ]
  },
  {
   "cell_type": "code",
   "execution_count": 11,
   "metadata": {},
   "outputs": [],
   "source": [
    "#Predictions\n",
    "#The predict fuction converts probability values > .5 to 1 else 0\n",
    "y_pred = model.predict(X_test)"
   ]
  },
  {
   "cell_type": "code",
   "execution_count": 12,
   "metadata": {},
   "outputs": [
    {
     "name": "stdout",
     "output_type": "stream",
     "text": [
      "Accuracy:  0.9333333333333333\n"
     ]
    }
   ],
   "source": [
    "#Evaluating model\n",
    "print(\"Accuracy: \", metrics.accuracy_score(y_test, y_pred))"
   ]
  },
  {
   "cell_type": "code",
   "execution_count": 13,
   "metadata": {},
   "outputs": [],
   "source": [
    "# Using our own threshold\n",
    "# decisions = (model.predict_proba(X_test) >= 0.6).astype(int)\n",
    "# y_pred=decisions[:,1]\n",
    "# print(\"Accuracy: \", metrics.accuracy_score(y_test, y_pred))"
   ]
  }
 ],
 "metadata": {
  "kernelspec": {
   "display_name": "Python 3",
   "language": "python",
   "name": "python3"
  },
  "language_info": {
   "codemirror_mode": {
    "name": "ipython",
    "version": 3
   },
   "file_extension": ".py",
   "mimetype": "text/x-python",
   "name": "python",
   "nbconvert_exporter": "python",
   "pygments_lexer": "ipython3",
   "version": "3.8.5"
  }
 },
 "nbformat": 4,
 "nbformat_minor": 2
}
