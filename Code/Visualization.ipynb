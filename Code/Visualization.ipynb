{
 "cells": [
  {
   "cell_type": "code",
   "execution_count": null,
   "metadata": {},
   "outputs": [],
   "source": [
    "import numpy as np\n",
    "import matplotlib.pyplot as plt \n",
    "%matplotlib inline\n",
    "import seaborn as sns\n",
    "import os \n",
    "from sklearn.model_selection import train_test_split \n",
    "from sklearn.ensemble import RandomForestClassifier \n",
    "from sklearn import metrics \n",
    "from sklearn.datasets import load_iris \n",
    "from sklearn.cluster import KMeans \n",
    "from scipy.stats import norm"
   ]
  },
  {
   "cell_type": "code",
   "execution_count": null,
   "metadata": {},
   "outputs": [],
   "source": [
    "os.chdir(r'C:\\Users\\Vish\\Documents\\Data\\Dataset')"
   ]
  },
  {
   "cell_type": "code",
   "execution_count": null,
   "metadata": {},
   "outputs": [],
   "source": [
    "#MATPLOTLIB"
   ]
  },
  {
   "cell_type": "code",
   "execution_count": null,
   "metadata": {},
   "outputs": [],
   "source": [
    "plt.figure(figsize=(5,3))\n",
    "x=[1,2,3,4,5,6,7]\n",
    "y=[50,51,56,71,44,39,81]\n",
    "plt.xlabel('Day')\n",
    "plt.ylabel('Temperature')\n",
    "plt.title('Weather')\n",
    "plt.plot(x,y,color='green',linewidth=3,linestyle='dotted')"
   ]
  },
  {
   "cell_type": "code",
   "execution_count": null,
   "metadata": {},
   "outputs": [],
   "source": [
    "plt.figure(figsize=(10,3))\n",
    "#style,color,marker,linestyle,alpha,markersize,linewidth,\n",
    "#plt.style.available\n",
    "#plt.style.use('grayscale')\n",
    "plt.style.use('fivethirtyeight')\n",
    "x=[1,2,3,4,5,6,7]\n",
    "y=[50,51,56,71,44,39,81]\n",
    "plt.xlabel('Day')\n",
    "plt.ylabel('Temperature')\n",
    "plt.title('Weather')\n",
    "#plt.plot(x,y,'g+')\n",
    "#plt.plot(x,y,'g+--')\n",
    "#plt.plot(x,y,'--r+')\n",
    "#plt.plot(x,y,'gD--')\n",
    "#plt.plot(x,y,color='r',marker='D',linestyle='dotted')\n",
    "#plt.plot(x,y,color='#000000',marker='D',linestyle='dotted')\n",
    "#plt.plot(x,y,color='#000000',marker='D',linestyle='dotted',markersize=5)\n",
    "#plt.plot(x,y,color='#000000',marker='D',linestyle='dotted',markersize=2,linewidth=1)\n",
    "#plt.plot(x,y,color='#000000',marker='D',linestyle='dotted',markersize=2,linewidth=1,alpha=0.5)\n",
    "plt.plot(x,y,'gD--',alpha=0.5, markersize=5,linewidth=1)"
   ]
  },
  {
   "cell_type": "code",
   "execution_count": null,
   "metadata": {},
   "outputs": [],
   "source": [
    "#label,legend,grid\n",
    "plt.figure(figsize=(10,3))\n",
    "plt.style.use('fivethirtyeight')\n",
    "x=[1,2,3,4,5,6,7]\n",
    "min_t=[50,51,56,71,44,39,81]\n",
    "max_t=[80,83,88,85,90,94,95]\n",
    "plt.xlabel('Day')\n",
    "plt.ylabel('Temperature')\n",
    "plt.title('Weather')\n",
    "#plt.plot(x,y,'g+')\n",
    "#plt.plot(x,y,'g+--')\n",
    "#plt.plot(x,y,'--r+')\n",
    "#plt.plot(x,y,color='r',marker='D',linestyle='dotted')\n",
    "#plt.plot(x,y,color='#000000',marker='D',linestyle='dotted')\n",
    "#plt.plot(x,y,color='#000000',marker='D',linestyle='dotted',markersize=5)\n",
    "#plt.plot(x,y,color='#000000',marker='D',linestyle='dotted',alpha=0.5)\n",
    "plt.plot(x,min_t,color='red',marker='+',linestyle='dotted',label='min temp',markersize=2,linewidth=1)\n",
    "plt.plot(x,max_t,color='green',marker='D',linestyle='dotted',label='max temp',markersize=2,linewidth=1)\n",
    "plt.legend(loc='best',fontsize='small', shadow=True)\n",
    "plt.grid()"
   ]
  },
  {
   "cell_type": "code",
   "execution_count": null,
   "metadata": {},
   "outputs": [],
   "source": [
    "# BAR CHART\n",
    "# A bar graph uses bars to compare data among different categories. \n",
    "# It is well suited when you want to measure the changes over a period of time. \n",
    "# It can be represented horizontally or vertically. \n",
    "# Also, the important thing to keep in mind is that longer the bar, greater is the value.\n",
    "# A bar chart or bar graph is a chart or graph that presents categorical data with rectangular bars with heights or lengths proportional to the values that they represent. \n",
    "# The bars can be plotted vertically or horizontally.\n",
    "# A barplot (or barchart) is one of the most common type of plot. \n",
    "# It shows the relationship between a numerical variable and a categorical variable. \n",
    "# For example, you can display the height of several individuals using bar chart. \n",
    "# Barcharts are often confounded with histograms, which is highly different. (It has only a numerical variable as input and shows its distribution). \n",
    "# A common mistake is to use barplots to represent the average value of each group. \n",
    "# If you have several values per group, showing only the average dissimulate a part of the information. \n",
    "# In this case, consider doing a boxplot or a violinplot. \n",
    "# At least, you should show the number of observation per group and the confidence interval of each group."
   ]
  },
  {
   "cell_type": "code",
   "execution_count": null,
   "metadata": {},
   "outputs": [],
   "source": [
    "plt.figure(figsize=(6,3))\n",
    "company=['a','b','c','d']\n",
    "revenue=[20,30,40,50]\n",
    "plt.ylabel('revenue')\n",
    "plt.title('techm')\n",
    "plt.bar(company,revenue)"
   ]
  },
  {
   "cell_type": "code",
   "execution_count": null,
   "metadata": {},
   "outputs": [],
   "source": [
    "#legend, width\n",
    "\n",
    "company=['a','b','c','d']\n",
    "revenue=[20,30,40,50]\n",
    "plt.ylabel('revenue')\n",
    "plt.title('techm')\n",
    "plt.bar(company,revenue,width=0.4,label='revenue')\n",
    "plt.legend()"
   ]
  },
  {
   "cell_type": "code",
   "execution_count": null,
   "metadata": {},
   "outputs": [],
   "source": [
    "#two bars on same chart\n",
    "\n",
    "company=['a','b','c','d']\n",
    "revenue=[20,30,40,50]\n",
    "profit=[5,10,15,20]\n",
    "plt.ylabel('revenue')\n",
    "plt.title('techm')\n",
    "plt.bar(company,revenue,width=0.4,label='revenue')\n",
    "plt.bar(company,profit,width=0.4,label='profit')\n",
    "plt.legend()"
   ]
  },
  {
   "cell_type": "code",
   "execution_count": null,
   "metadata": {},
   "outputs": [],
   "source": [
    "company=['a','b','c','d']\n",
    "revenue=[20,30,40,50]\n",
    "profit=[5,10,15,20]\n",
    "xpos=np.arange(len(company))\n",
    "plt.xticks(xpos,company)\n",
    "plt.ylabel('revenue')\n",
    "plt.title('techm')\n",
    "plt.bar(xpos-0.2,revenue,width=0.4,label='revenue')\n",
    "plt.bar(xpos+0.2,profit,width=0.4,label='profit')\n",
    "plt.legend()"
   ]
  },
  {
   "cell_type": "code",
   "execution_count": null,
   "metadata": {},
   "outputs": [],
   "source": [
    "#horizontal bar\n",
    "\n",
    "company=['a','b','c','d']\n",
    "revenue=[20,30,40,50]\n",
    "profit=[5,10,15,20]\n",
    "ypos=np.arange(len(company))\n",
    "plt.yticks(ypos,company)\n",
    "plt.ylabel('revenue')\n",
    "plt.title('techm')\n",
    "plt.barh(ypos-0.2,revenue,height=0.4,label='revenue')\n",
    "plt.barh(ypos+0.2,profit,height=0.4,label='profit')\n",
    "plt.legend()"
   ]
  },
  {
   "cell_type": "code",
   "execution_count": null,
   "metadata": {},
   "outputs": [],
   "source": [
    "# HISTOGRAM \n",
    "\n",
    "# Histograms are used to show a distribution whereas a bar chart is used to compare different entities. \n",
    "# Histograms are useful when you have arrays or a very long list. \n",
    "# Let’s consider an example where I have to plot the age of population with respect to bin. \n",
    "# Now, bin refers to the range of values that are divided into series of intervals. Bins are usually created of the same size. \n",
    "# In the below code, I have created the bins in the interval of 10 which means the first bin contains elements from 0 to 9, then 10 to 19 and so on.As far as histogram is concerned, the normed param is deprecated . #Use 'density' instead.\n",
    "# Bins are nothing but interval. X axis shows bins or interval and y axis shows the frequency of every bin."
   ]
  },
  {
   "cell_type": "code",
   "execution_count": null,
   "metadata": {},
   "outputs": [],
   "source": [
    "blood_sugar = [110,95,80,170,130,150,77,120,86]\n",
    "plt.hist(blood_sugar) \n",
    "# 10 bins by default"
   ]
  },
  {
   "cell_type": "code",
   "execution_count": null,
   "metadata": {},
   "outputs": [],
   "source": [
    "#bins, edgecolor, rwidth, color\n",
    "blood_sugar = [110,95,80,170,130,150,77,120,86]\n",
    "#plt.hist(blood_sugar, bins=3, edgecolor='black', color='red') \n",
    "plt.hist(blood_sugar, bins=3, edgecolor='black', rwidth=0.95, color='red') "
   ]
  },
  {
   "cell_type": "code",
   "execution_count": null,
   "metadata": {},
   "outputs": [],
   "source": [
    "#bins interval\n",
    "blood_sugar = [110,95,80,170,130,150,77,120,86]\n",
    "plt.hist(blood_sugar, bins=[60,100,150,200], edgecolor='black', rwidth=0.95, color='g')#bin start from 60, values<60 wont show up"
   ]
  },
  {
   "cell_type": "code",
   "execution_count": null,
   "metadata": {},
   "outputs": [],
   "source": [
    "blood_sugar = [110,95,80,170,130,150,77,120,86]"
   ]
  },
  {
   "cell_type": "code",
   "execution_count": null,
   "metadata": {},
   "outputs": [],
   "source": [
    "sns.distplot(blood_sugar)"
   ]
  },
  {
   "cell_type": "code",
   "execution_count": null,
   "metadata": {},
   "outputs": [],
   "source": [
    "#bins, color, axlabel, label, legend, hist, vertical, xticks\n",
    "ax=sns.distplot(blood_sugar,bins=3,color='red',axlabel='Blood Sugar', label='Blood Sugar Hist')\n",
    "ax.legend()\n",
    "plt.show()\n",
    "#sns.distplot(blood_sugar, bins=[0,100,140,190])\n",
    "#sns.distplot(blood_sugar, bins=range(50,186,45))\n",
    "#sns.distplot(blood_sugar, bins=range(0,180,60),hist=False,vertical=True)\n",
    "#plt.xticks(range(0,300,50))"
   ]
  },
  {
   "cell_type": "code",
   "execution_count": null,
   "metadata": {},
   "outputs": [],
   "source": [
    "#norm,rug,kde\n",
    "ax=sns.distplot(blood_sugar, fit=norm,rug=True)\n",
    "#sns.distplot(df.Glucose, fit=norm, rug=True, kde=False)"
   ]
  },
  {
   "cell_type": "code",
   "execution_count": null,
   "metadata": {},
   "outputs": [],
   "source": [
    "#rug_kws,kde_kws,hist_kws\n",
    "ax = sns.distplot(blood_sugar, rug=True, rug_kws={\"color\": \"g\"},\n",
    "                  kde_kws={\"color\": \"k\", \"lw\": 3, \"label\": \"KDE\"},\n",
    "                  hist_kws={\"histtype\": \"step\", \"linewidth\": 3,\n",
    "                            \"alpha\": 0.5, \"color\": \"g\"})"
   ]
  },
  {
   "cell_type": "code",
   "execution_count": null,
   "metadata": {},
   "outputs": [],
   "source": [
    "#COUNT PLOT"
   ]
  },
  {
   "cell_type": "code",
   "execution_count": null,
   "metadata": {},
   "outputs": [],
   "source": [
    "temperature=[30,-1,20,2,2,30,30,90,88,77,2,2,-1]"
   ]
  },
  {
   "cell_type": "code",
   "execution_count": null,
   "metadata": {},
   "outputs": [],
   "source": [
    "sns.countplot(temperature)"
   ]
  },
  {
   "cell_type": "code",
   "execution_count": null,
   "metadata": {},
   "outputs": [],
   "source": [
    "df=pd.read_csv('train.csv')"
   ]
  },
  {
   "cell_type": "code",
   "execution_count": null,
   "metadata": {
    "scrolled": true
   },
   "outputs": [],
   "source": [
    "df=df.head(10)"
   ]
  },
  {
   "cell_type": "code",
   "execution_count": null,
   "metadata": {},
   "outputs": [],
   "source": [
    "#hue\n",
    "sns.countplot(x='Occupation',data=df,hue='City_Category',palette=\"Set3\")\n",
    "#palette gives one color to each unique value of the column"
   ]
  },
  {
   "cell_type": "code",
   "execution_count": null,
   "metadata": {},
   "outputs": [],
   "source": [
    "# SCATTER PLOT"
   ]
  },
  {
   "cell_type": "code",
   "execution_count": null,
   "metadata": {},
   "outputs": [],
   "source": [
    "#style,color,marker,edgecolor,alpha,cmap\n",
    "plt.style.use('seaborn')\n",
    "X=[5,7,4,5,6,9,10,12]\n",
    "Y=[2,1,4,3,6,9,3,4]\n",
    "color=[7,5,4,2,4,6,7,8]\n",
    "size=[201,260,342,322,256,342,122,234]\n",
    "#plt.scatter(X,Y,c='green',marker='+',edgecolor='black',alpha=0.75)\n",
    "#plt.scatter(X,Y,c='red',edgecolor='black',alpha=0.75)\n",
    "#plt.scatter(X,Y,c=color,cmap='Greens',edgecolor='black',alpha=0.75)\n",
    "plt.scatter(X,Y,c=color,s=size,cmap='Greens',edgecolor='black',alpha=0.75)\n",
    "cbar=plt.colorbar()\n",
    "cbar.set_label('Satisfaction')"
   ]
  },
  {
   "cell_type": "code",
   "execution_count": null,
   "metadata": {},
   "outputs": [],
   "source": [
    "#PIE CHART"
   ]
  },
  {
   "cell_type": "code",
   "execution_count": null,
   "metadata": {},
   "outputs": [],
   "source": [
    "#autopct,colors,edgecolor,explode,startangle\n",
    "exp_values=[60,150,200,100]\n",
    "exp_labels=['FOOTBALL','FOOD','SHOP','MISC']\n",
    "colors=['#fc4f30','#008fd5','#e5ae37','#6d904f']\n",
    "plt.pie(exp_values,labels=exp_labels, autopct='%0.1f%%',shadow=True,colors=colors ,wedgeprops={'edgecolor':'black'} ,explode=[1.0,0,0,0],startangle=45)\n",
    "plt.axis('equal') #gives axact shape of a circle\n",
    "plt.show() #removes all the extra text and only displays the pie chart"
   ]
  },
  {
   "cell_type": "code",
   "execution_count": null,
   "metadata": {},
   "outputs": [],
   "source": [
    "#STACK PLOT"
   ]
  },
  {
   "cell_type": "code",
   "execution_count": null,
   "metadata": {},
   "outputs": [],
   "source": [
    "minutes=[1,2,3,4,5,6,7,8,9]\n",
    "player1=[1,2,3,3,5,4,4,5,5]\n",
    "player2=[1,1,1,2,5,3,4,4,4]\n",
    "player3=[1,1,1,2,5,2,2,3,3]\n",
    "colors=['#fc4f30','#008fd5','#e5ae37']\n",
    "#plt.pie([1,1,1], labels=['player1','player2','player3'])\n",
    "labels=['player1','player2','player3']\n",
    "plt.stackplot(minutes,player1,player2,player3,labels=labels,colors=colors)\n",
    "plt.legend(loc='upper left')\n",
    "plt.show()"
   ]
  },
  {
   "cell_type": "code",
   "execution_count": null,
   "metadata": {},
   "outputs": [],
   "source": [
    "#SAVE CHARTS"
   ]
  },
  {
   "cell_type": "code",
   "execution_count": null,
   "metadata": {},
   "outputs": [],
   "source": [
    "plt.savefig('piechart.png',bbox_inches='tight',pad_inches=2,transparent=True) \n",
    "plt.savefig(r'C:\\Users\\Vish\\Documents\\Data\\Practice\\piechart.pdf',bbox_inches='tight',pad_inches=2,transparent=True) "
   ]
  },
  {
   "cell_type": "code",
   "execution_count": null,
   "metadata": {},
   "outputs": [],
   "source": [
    "#BOXPLOT"
   ]
  },
  {
   "cell_type": "code",
   "execution_count": null,
   "metadata": {},
   "outputs": [],
   "source": [
    "df=pd.read_csv('loan.csv')\n",
    "df.head()"
   ]
  },
  {
   "cell_type": "code",
   "execution_count": null,
   "metadata": {},
   "outputs": [],
   "source": [
    "plt.boxplot(df.ApplicantIncome)\n",
    "plt.show()"
   ]
  },
  {
   "cell_type": "code",
   "execution_count": null,
   "metadata": {},
   "outputs": [],
   "source": [
    "sns.boxplot(df.ApplicantIncome)"
   ]
  },
  {
   "cell_type": "code",
   "execution_count": null,
   "metadata": {},
   "outputs": [],
   "source": [
    "#style\n",
    "plt.figure(figsize=(8,8))\n",
    "sns.set(style=\"whitegrid\")\n",
    "sns.boxplot(x=df.Gender, y=df.ApplicantIncome)"
   ]
  },
  {
   "cell_type": "code",
   "execution_count": null,
   "metadata": {},
   "outputs": [],
   "source": [
    "#hue, palette, linewidth, order, orient\n",
    "plt.figure(figsize=(8,8))\n",
    "sns.set(style=\"whitegrid\")\n",
    "sns.boxplot(x=df.Gender, y=df.ApplicantIncome, hue=df.Married, palette=\"Set2\", linewidth=1.5, order=[\"Female\", \"Male\"])\n",
    "#sns.boxplot(x=df.Gender, y=df.ApplicantIncome, hue=df.Married, palette=\"Set2\", linewidth=1.5, order=[\"Female\", \"Male\"], orient=\"h\")"
   ]
  },
  {
   "cell_type": "code",
   "execution_count": null,
   "metadata": {},
   "outputs": [],
   "source": [
    "#SWARMPLOT"
   ]
  },
  {
   "cell_type": "code",
   "execution_count": null,
   "metadata": {},
   "outputs": [],
   "source": [
    "plt.figure(figsize=(8,8))\n",
    "sns.swarmplot(x=df.Gender, y=df.ApplicantIncome )"
   ]
  },
  {
   "cell_type": "code",
   "execution_count": null,
   "metadata": {},
   "outputs": [],
   "source": [
    "#catplot\n",
    "#stripplot"
   ]
  },
  {
   "cell_type": "code",
   "execution_count": null,
   "metadata": {},
   "outputs": [],
   "source": [
    "#AUC ROC CURVE"
   ]
  },
  {
   "cell_type": "code",
   "execution_count": null,
   "metadata": {},
   "outputs": [],
   "source": [
    "df=pd.read_csv(\"diabetes.csv\")"
   ]
  },
  {
   "cell_type": "code",
   "execution_count": null,
   "metadata": {},
   "outputs": [],
   "source": [
    "X=df.iloc[:,0:8].values\n",
    "y=df.iloc[:,8].values\n",
    "X_train,X_test,y_train,y_test=train_test_split(X,y,test_size=0.25,random_state=0)"
   ]
  },
  {
   "cell_type": "code",
   "execution_count": null,
   "metadata": {},
   "outputs": [],
   "source": [
    "clf=RandomForestClassifier(n_estimators=100,random_state=10)\n",
    "clf.fit(X_train,y_train)\n",
    "y_pred=clf.predict(X_test)"
   ]
  },
  {
   "cell_type": "code",
   "execution_count": null,
   "metadata": {},
   "outputs": [],
   "source": [
    "fpr,tpr,threshold=metrics.roc_curve(y_test,y_pred)\n",
    "roc_auc=metrics.auc(fpr,tpr)"
   ]
  },
  {
   "cell_type": "code",
   "execution_count": null,
   "metadata": {},
   "outputs": [],
   "source": [
    "plt.plot(fpr,tpr, color='darkorange',label='auc = %0.2f ' % roc_auc)\n",
    "plt.xlabel('False Positive Rate')\n",
    "plt.ylabel('True Positive Rate')\n",
    "plt.title('Auc roc curve')\n",
    "plt.legend(loc=\"lower right\")\n",
    "plt.show()"
   ]
  },
  {
   "cell_type": "code",
   "execution_count": null,
   "metadata": {},
   "outputs": [],
   "source": [
    "#ELBOW CURVE"
   ]
  },
  {
   "cell_type": "code",
   "execution_count": null,
   "metadata": {},
   "outputs": [],
   "source": [
    "iris=load_iris()\n",
    "df=pd.DataFrame(iris.data,columns=iris['feature_names'])\n",
    "df.head()"
   ]
  },
  {
   "cell_type": "code",
   "execution_count": null,
   "metadata": {},
   "outputs": [],
   "source": [
    "#SSE is defined as the sum of the squared distance between centroid and each member of the cluster. \n",
    "#Then plot a K against SSE graph. We will observe that as K increases SSE decreases as disortation will be small. \n",
    "#So the idea of this algorithm is to choose the value of K at which the graph decrease abruptly.\n",
    "\n",
    "sse=[]\n",
    "k=range(1,11)\n",
    "for i in range(1,11):\n",
    "    kmeans=KMeans(n_clusters=i,max_iter=1000).fit(df)\n",
    "    df['clusters']=kmeans.labels_\n",
    "    sse.append(kmeans.inertia_)\n",
    "    \n",
    "plt.figure(figsize=(6,4))    \n",
    "plt.plot(k,sse,'bx-')\n",
    "plt.xlabel(\"Number of cluster\")\n",
    "plt.ylabel(\"SSE\")\n",
    "plt.show()"
   ]
  },
  {
   "cell_type": "code",
   "execution_count": null,
   "metadata": {},
   "outputs": [],
   "source": [
    "#PLOTLY"
   ]
  },
  {
   "cell_type": "code",
   "execution_count": null,
   "metadata": {},
   "outputs": [],
   "source": [
    "#Scatter"
   ]
  },
  {
   "cell_type": "code",
   "execution_count": null,
   "metadata": {},
   "outputs": [],
   "source": [
    "# !pip install plotly\n",
    "import plotly.express as px\n",
    "df = px.data.iris()\n",
    "fig = px.scatter(df, x=\"sepal_width\", y=\"sepal_length\", color=\"species\",\n",
    "                 size='petal_length', hover_data=['petal_width'])\n",
    "fig.show()"
   ]
  },
  {
   "cell_type": "code",
   "execution_count": null,
   "metadata": {},
   "outputs": [],
   "source": [
    "#Line Chart"
   ]
  },
  {
   "cell_type": "code",
   "execution_count": null,
   "metadata": {},
   "outputs": [],
   "source": [
    "import plotly.express as px\n",
    "df = px.data.gapminder().query(\"continent=='Oceania'\")\n",
    "fig = px.line(df, x=\"year\", y=\"lifeExp\", color='country')\n",
    "fig.show()"
   ]
  },
  {
   "cell_type": "code",
   "execution_count": null,
   "metadata": {},
   "outputs": [],
   "source": [
    "import plotly.express as px\n",
    "df = px.data.gapminder().query(\"continent != 'Asia'\") # remove Asia for visibility\n",
    "fig = px.line(df, x=\"year\", y=\"lifeExp\", color=\"continent\",\n",
    "              line_group=\"country\", hover_name=\"country\")\n",
    "fig.show()"
   ]
  },
  {
   "cell_type": "code",
   "execution_count": null,
   "metadata": {},
   "outputs": [],
   "source": [
    "#Bar plot"
   ]
  },
  {
   "cell_type": "code",
   "execution_count": null,
   "metadata": {},
   "outputs": [],
   "source": [
    "import plotly.express as px\n",
    "data_canada = px.data.gapminder().query(\"country == 'Canada'\")\n",
    "fig = px.bar(data_canada, x='year', y='pop')\n",
    "fig.show()"
   ]
  },
  {
   "cell_type": "code",
   "execution_count": null,
   "metadata": {},
   "outputs": [],
   "source": [
    "import plotly.express as px\n",
    "df = px.data.tips()\n",
    "fig = px.bar(df, x=\"total_bill\", y=\"day\", orientation='h')\n",
    "fig.show()"
   ]
  },
  {
   "cell_type": "code",
   "execution_count": null,
   "metadata": {},
   "outputs": [],
   "source": [
    "import plotly.express as px\n",
    "long_df = px.data.medals_long()\n",
    "fig = px.bar(long_df, x=\"nation\", y=\"count\", color=\"medal\", title=\"Long-Form Input\")\n",
    "fig.show()"
   ]
  },
  {
   "cell_type": "code",
   "execution_count": null,
   "metadata": {},
   "outputs": [],
   "source": [
    "#piechart"
   ]
  },
  {
   "cell_type": "code",
   "execution_count": null,
   "metadata": {},
   "outputs": [],
   "source": [
    "import plotly.express as px\n",
    "# This dataframe has 244 lines, but 4 distinct values for `day`\n",
    "df = px.data.tips()\n",
    "fig = px.pie(df, values='tip', names='day')\n",
    "fig.show()"
   ]
  },
  {
   "cell_type": "code",
   "execution_count": null,
   "metadata": {},
   "outputs": [],
   "source": [
    "#Gantt Chart"
   ]
  },
  {
   "cell_type": "code",
   "execution_count": null,
   "metadata": {},
   "outputs": [],
   "source": [
    "import plotly.express as px\n",
    "import pandas as pd\n",
    "\n",
    "df = pd.DataFrame([\n",
    "    dict(Task=\"Job A\", Start='2009-01-01', Finish='2009-02-28', Resource=\"Alex\"),\n",
    "    dict(Task=\"Job B\", Start='2009-03-05', Finish='2009-04-15', Resource=\"Alex\"),\n",
    "    dict(Task=\"Job C\", Start='2009-02-20', Finish='2009-05-30', Resource=\"Max\")\n",
    "])\n",
    "\n",
    "fig = px.timeline(df, x_start=\"Start\", x_end=\"Finish\", y=\"Task\", color=\"Resource\")\n",
    "fig.update_yaxes(autorange=\"reversed\")\n",
    "fig.show()"
   ]
  },
  {
   "cell_type": "code",
   "execution_count": null,
   "metadata": {},
   "outputs": [],
   "source": [
    "import plotly.graph_objects as go\n",
    "import urllib, json\n",
    "\n",
    "url = 'https://raw.githubusercontent.com/plotly/plotly.js/master/test/image/mocks/sankey_energy.json'\n",
    "response = urllib.request.urlopen(url)\n",
    "data = json.loads(response.read())\n",
    "\n",
    "fig = go.Figure(data=[go.Sankey(\n",
    "    valueformat = \".0f\",\n",
    "    valuesuffix = \"TWh\",\n",
    "    # Define nodes\n",
    "    node = dict(\n",
    "      pad = 25,\n",
    "      thickness = 25,\n",
    "      line = dict(color = \"black\", width = 0.6),\n",
    "      label =  data['data'][0]['node']['label'],\n",
    "      color =  data['data'][0]['node']['color']\n",
    "    ),\n",
    "    # Add links\n",
    "    link = dict(\n",
    "      source =  data['data'][0]['link']['source'],\n",
    "      target =  data['data'][0]['link']['target'],\n",
    "      value =  data['data'][0]['link']['value'],\n",
    "      label =  data['data'][0]['link']['label'],\n",
    "      color =  data['data'][0]['link']['color']\n",
    "))])\n",
    "\n",
    "fig.update_layout(title_text=\"Energy forecast for 2050\",\n",
    "                  font=dict(size = 10, color = 'white'),\n",
    "    plot_bgcolor='black'\n",
    "#     paper_bgcolor='black'\n",
    "                 )\n",
    "fig.show()"
   ]
  },
  {
   "cell_type": "code",
   "execution_count": null,
   "metadata": {},
   "outputs": [],
   "source": [
    "#Sunburst chart"
   ]
  },
  {
   "cell_type": "code",
   "execution_count": null,
   "metadata": {},
   "outputs": [],
   "source": [
    "import plotly.express as px\n",
    "data = dict(\n",
    "    character=[\"Eve\", \"Cain\", \"Seth\", \"Enos\", \"Noam\", \"Abel\", \"Awan\", \"Enoch\", \"Azura\"],\n",
    "    parent=[\"\", \"Eve\", \"Eve\", \"Seth\", \"Seth\", \"Eve\", \"Eve\", \"Awan\", \"Eve\" ],\n",
    "    value=[10, 14, 12, 10, 2, 6, 6, 4, 4])\n",
    "\n",
    "fig =px.sunburst(\n",
    "    data,\n",
    "    names='character',\n",
    "    parents='parent',\n",
    "    values='value',\n",
    ")\n",
    "fig.show()"
   ]
  },
  {
   "cell_type": "code",
   "execution_count": null,
   "metadata": {},
   "outputs": [],
   "source": [
    "#Sunburst chart"
   ]
  },
  {
   "cell_type": "code",
   "execution_count": null,
   "metadata": {},
   "outputs": [],
   "source": [
    "import plotly.express as px\n",
    "df = px.data.tips()\n",
    "fig = px.sunburst(df, path=['day', 'time', 'sex'], values='total_bill')\n",
    "fig.show()"
   ]
  },
  {
   "cell_type": "code",
   "execution_count": null,
   "metadata": {},
   "outputs": [],
   "source": [
    "#Categorical Axes"
   ]
  },
  {
   "cell_type": "code",
   "execution_count": null,
   "metadata": {},
   "outputs": [],
   "source": [
    "import plotly.express as px\n",
    "df = px.data.tips()\n",
    "fig = px.bar(df, x=\"day\", y=\"total_bill\", color=\"smoker\", barmode=\"group\", facet_col=\"sex\")\n",
    "fig.show()"
   ]
  },
  {
   "cell_type": "code",
   "execution_count": null,
   "metadata": {},
   "outputs": [],
   "source": [
    "import plotly.graph_objects as go\n",
    "\n",
    "x=['b', 'a', 'c', 'd']\n",
    "fig = go.Figure(go.Bar(x=x, y=[2,5,1,9], name='Montreal'))\n",
    "fig.add_trace(go.Bar(x=x, y=[1, 4, 9, 16], name='Ottawa'))\n",
    "fig.add_trace(go.Bar(x=x, y=[6, 8, 4.5, 8], name='Toronto'))\n",
    "\n",
    "fig.update_layout(barmode='stack')\n",
    "fig.update_xaxes(categoryorder='category ascending')\n",
    "fig.show()"
   ]
  },
  {
   "cell_type": "code",
   "execution_count": null,
   "metadata": {},
   "outputs": [],
   "source": []
  }
 ],
 "metadata": {
  "celltoolbar": "Raw Cell Format",
  "kernelspec": {
   "display_name": "Python 3",
   "language": "python",
   "name": "python3"
  },
  "language_info": {
   "codemirror_mode": {
    "name": "ipython",
    "version": 3
   },
   "file_extension": ".py",
   "mimetype": "text/x-python",
   "name": "python",
   "nbconvert_exporter": "python",
   "pygments_lexer": "ipython3",
   "version": "3.8.5"
  }
 },
 "nbformat": 4,
 "nbformat_minor": 2
}
