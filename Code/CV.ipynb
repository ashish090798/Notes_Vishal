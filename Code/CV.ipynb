{
 "cells": [
  {
   "cell_type": "code",
   "execution_count": 1,
   "metadata": {},
   "outputs": [],
   "source": [
    "import pandas as pd\n",
    "import numpy as np\n",
    "import matplotlib.pyplot as plt\n",
    "from sklearn.model_selection import train_test_split\n",
    "from sklearn import metrics\n",
    "from sklearn.ensemble import RandomForestClassifier\n",
    "from sklearn.model_selection import KFold,GridSearchCV,cross_val_score "
   ]
  },
  {
   "cell_type": "code",
   "execution_count": 2,
   "metadata": {},
   "outputs": [],
   "source": [
    "import os\n",
    "os.chdir(r'C:\\Users\\Vish\\Documents\\Data\\Dataset')\n",
    "train=pd.read_csv(\"diabetes.csv\")"
   ]
  },
  {
   "cell_type": "code",
   "execution_count": 3,
   "metadata": {},
   "outputs": [],
   "source": [
    "X=train.iloc[:,0:8].values\n",
    "y=train.iloc[:,8].values"
   ]
  },
  {
   "cell_type": "code",
   "execution_count": 4,
   "metadata": {},
   "outputs": [],
   "source": [
    "X_train,X_test,y_train,y_test=train_test_split(X,y,test_size=0.25,random_state=0)"
   ]
  },
  {
   "cell_type": "code",
   "execution_count": 9,
   "metadata": {},
   "outputs": [
    {
     "name": "stdout",
     "output_type": "stream",
     "text": [
      "[0.70689655 0.72413793 0.74137931 0.79310345 0.74137931 0.77586207\n",
      " 0.63157895 0.66666667 0.78947368 0.80701754]\n",
      "0.7377495462794919\n",
      "0.05429416759591002\n",
      "0.7447916666666666\n"
     ]
    }
   ],
   "source": [
    "#checking model will perform on unknown dataset with random hyperparameters\n",
    "\n",
    "#cross_val_score and cross_val_predict both tell us tell us how good model will perform on unknown dataset\n",
    "#cross_val_score returns score of test fold where cross_val_predict returns predicted y values for the test fold.\n",
    "\n",
    "#cross_val_score tells given true labels and predicted labels, how many answers the predictor were right in a particular fold?\n",
    "#cross_val_score gives a single real value for each fold. The value is the score of the classifier\n",
    "#In cross_val_score, the y labels given in input are used twice - to learn from data and to evaluate the performances of the classifier.\n",
    "\n",
    "#cross_val_predict gives a value for each input - the prediction of the classifier\n",
    "#cross_val_predict returns, for each element in the input, the prediction that was obtained for that element when it was in the test set. \n",
    "#each output was computed on the test data of a certain fold, but you can't tell which fold was used\n",
    "#cross_val_predict tells given the input data and their labels, what is the prediction of the classifier on a specific example that was in a test set of a particular fold?\n",
    "#In cross_val_predict, the labels are used just once - to train the classifier. It's your job to compare these outputs to the true outputs to compute the score. \n",
    "#If you just average them, the output is not a score, it's just the average prediction.\n",
    "\n",
    "clf=RandomForestClassifier(n_estimators=100,random_state=10)\n",
    "# cv = KFold(n_splits=10)\n",
    "# ypred = cross_val_score(clf, X_train,y_train,cv=cv,scoring='accuracy')\n",
    "scores=cross_val_score(clf,X_train,y_train,cv=10,scoring='accuracy')\n",
    "print(scores)\n",
    "print(scores.mean())\n",
    "print(scores.std())\n",
    "\n",
    "from sklearn.model_selection import cross_val_predict\n",
    "y_pred = cross_val_predict( clf, X_test,y_test, cv = 10)\n",
    "print(metrics.accuracy_score(y_test,y_pred))"
   ]
  },
  {
   "cell_type": "code",
   "execution_count": 10,
   "metadata": {},
   "outputs": [
    {
     "name": "stdout",
     "output_type": "stream",
     "text": [
      "[0.72413793 0.72413793 0.74137931 0.82758621 0.75862069 0.77586207\n",
      " 0.66666667 0.64912281 0.80701754 0.8245614 ]\n",
      "0.7499092558983667\n",
      "0.05840014150575055\n",
      "0.7604166666666666\n"
     ]
    }
   ],
   "source": [
    "#checking model will perform on unknown dataset with best hyperparameters\n",
    "grid_param={'n_estimators':[100,200],\n",
    "               'criterion':['gini','entropy'],\n",
    "           'max_features':['sqrt','auto']}\n",
    "\n",
    "gd=GridSearchCV(estimator=clf,\n",
    "               param_grid=grid_param,\n",
    "               scoring=\"accuracy\",\n",
    "               n_jobs=1)\n",
    "\n",
    "gd.fit(X_train,y_train)\n",
    "clf=gd.best_estimator_\n",
    "scores=cross_val_score(clf,X_train,y_train,cv=10,scoring='accuracy')\n",
    "print(scores)\n",
    "print(scores.mean())\n",
    "print(scores.std())\n",
    "\n",
    "from sklearn.model_selection import cross_val_predict\n",
    "y_pred = cross_val_predict( clf, X_test, y_test, cv = 10)\n",
    "print(metrics.accuracy_score(y_test,y_pred))"
   ]
  }
 ],
 "metadata": {
  "kernelspec": {
   "display_name": "Python 3",
   "language": "python",
   "name": "python3"
  },
  "language_info": {
   "codemirror_mode": {
    "name": "ipython",
    "version": 3
   },
   "file_extension": ".py",
   "mimetype": "text/x-python",
   "name": "python",
   "nbconvert_exporter": "python",
   "pygments_lexer": "ipython3",
   "version": "3.8.5"
  }
 },
 "nbformat": 4,
 "nbformat_minor": 2
}
