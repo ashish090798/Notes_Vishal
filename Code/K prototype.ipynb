{
 "cells": [
  {
   "cell_type": "code",
   "execution_count": null,
   "metadata": {},
   "outputs": [],
   "source": [
    "import pandas as pd\n",
    "import numpy as np\n",
    "import matplotlib.pyplot as plt\n",
    "%matplotlib inline\n",
    "import seaborn as sns\n",
    "from kmodes.kprototypes import KPrototypes\n",
    "from sklearn.metrics import silhouette_score"
   ]
  },
  {
   "cell_type": "code",
   "execution_count": null,
   "metadata": {},
   "outputs": [],
   "source": [
    "import os \n",
    "os.chdir(r'C:\\Users\\Vish\\Documents\\Data\\Dataset')\n",
    "df=pd.read_csv('UniversalBank.csv')"
   ]
  },
  {
   "cell_type": "code",
   "execution_count": null,
   "metadata": {},
   "outputs": [],
   "source": [
    "df=df[['Age','Experience','Income','Securities Account','Family','Personal Loan','Education']]"
   ]
  },
  {
   "cell_type": "code",
   "execution_count": null,
   "metadata": {},
   "outputs": [],
   "source": [
    "df['Securities Account']=df['Securities Account'].astype('str')"
   ]
  },
  {
   "cell_type": "code",
   "execution_count": null,
   "metadata": {},
   "outputs": [],
   "source": [
    "df['Family']=df['Family'].astype('str')"
   ]
  },
  {
   "cell_type": "code",
   "execution_count": null,
   "metadata": {},
   "outputs": [],
   "source": [
    "df['Personal Loan']=df['Personal Loan'].astype('str')"
   ]
  },
  {
   "cell_type": "code",
   "execution_count": null,
   "metadata": {},
   "outputs": [],
   "source": [
    "df['Education']=df['Education'].astype('str')"
   ]
  },
  {
   "cell_type": "code",
   "execution_count": null,
   "metadata": {},
   "outputs": [],
   "source": [
    "df.dtypes"
   ]
  },
  {
   "cell_type": "code",
   "execution_count": null,
   "metadata": {},
   "outputs": [],
   "source": [
    "df_copy=df.copy(deep=True)"
   ]
  },
  {
   "cell_type": "code",
   "execution_count": null,
   "metadata": {},
   "outputs": [],
   "source": [
    "cost = []\n",
    "for num_clusters in list(range(2,5)):\n",
    "    kproto = KPrototypes(n_clusters=num_clusters)\n",
    "    #kproto=KPrototypes(n_clusters=2, init='Huang')\n",
    "    kproto.fit_predict(df, categorical=[3,4,5,6])\n",
    "    cost.append(kproto.cost_)\n",
    "plt.plot(range(2,5),cost)"
   ]
  },
  {
   "cell_type": "code",
   "execution_count": null,
   "metadata": {},
   "outputs": [],
   "source": [
    "silhouette_index=[]\n",
    "for num_clusters in range(2,5): \n",
    "    kproto = KPrototypes(n_clusters = num_clusters) \n",
    "    cluster_labels = kproto.fit_predict(df, categorical=[3,4,5,6])\n",
    "    silhouette_avg = silhouette_score(df, cluster_labels) \n",
    "    silhouette_index.append(silhouette_avg)\n",
    "    print(\"For no of clusters =\", num_clusters, \" The average silhouette_score is :\", silhouette_avg) \n",
    "\n",
    "plt.plot(range(2,5),silhouette_index)\n",
    "plt.title('Silhouette Index')\n",
    "plt.xlabel('Number of clusters')\n",
    "plt.ylabel('Silhouette Index')\n",
    "plt.show()"
   ]
  },
  {
   "cell_type": "code",
   "execution_count": null,
   "metadata": {},
   "outputs": [],
   "source": [
    "kproto = KPrototypes(n_clusters=3)\n",
    "#n_clusters:int--The number of clusters to form\n",
    "#init:{'Huang','Cao'}\n",
    "#n_init:int\n",
    "clusters_cao=kproto.fit_predict(df, categorical=[3,4,5,6])\n",
    "\n",
    "clustersdf = pd.DataFrame(clusters_cao)\n",
    "clustersdf.columns = ['cluster']\n",
    "combineddf = pd.concat([df_copy, clustersdf], axis = 1).reset_index()\n",
    "combineddf=combineddf.drop(['index', 'level_0'], axis = 1)\n",
    "combineddf.head(20)"
   ]
  }
 ],
 "metadata": {
  "kernelspec": {
   "display_name": "Python 3",
   "language": "python",
   "name": "python3"
  },
  "language_info": {
   "codemirror_mode": {
    "name": "ipython",
    "version": 3
   },
   "file_extension": ".py",
   "mimetype": "text/x-python",
   "name": "python",
   "nbconvert_exporter": "python",
   "pygments_lexer": "ipython3",
   "version": "3.8.5"
  }
 },
 "nbformat": 4,
 "nbformat_minor": 2
}
