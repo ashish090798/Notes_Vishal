{
 "cells": [
  {
   "cell_type": "code",
   "execution_count": 5,
   "metadata": {},
   "outputs": [],
   "source": [
    "#!pip install pandasql\n",
    "import pandas as pd\n",
    "from pandasql import sqldf\n",
    "from pandasql import load_births"
   ]
  },
  {
   "cell_type": "code",
   "execution_count": 10,
   "metadata": {},
   "outputs": [
    {
     "data": {
      "text/plain": [
       "pandas.core.frame.DataFrame"
      ]
     },
     "execution_count": 10,
     "metadata": {},
     "output_type": "execute_result"
    }
   ],
   "source": [
    "df=load_births()\n",
    "sql_df=sqldf(\"select * from df limit 5\",locals())\n",
    "#print(sqldf(\"select * from df limit 5\"))\n",
    "type(sql_df)"
   ]
  },
  {
   "cell_type": "code",
   "execution_count": 11,
   "metadata": {},
   "outputs": [
    {
     "name": "stdout",
     "output_type": "stream",
     "text": [
      "                         date  births\n",
      "0  1975-01-01 00:00:00.000000  265775\n",
      "1  1975-02-01 00:00:00.000000  241045\n",
      "2  1975-03-01 00:00:00.000000  268849\n",
      "3  1975-04-01 00:00:00.000000  247455\n",
      "4  1975-05-01 00:00:00.000000  254545\n"
     ]
    }
   ],
   "source": [
    "q=\"select * from df limit 5\"\n",
    "print(sqldf(q,locals()))"
   ]
  }
 ],
 "metadata": {
  "kernelspec": {
   "display_name": "Python 3",
   "language": "python",
   "name": "python3"
  },
  "language_info": {
   "codemirror_mode": {
    "name": "ipython",
    "version": 3
   },
   "file_extension": ".py",
   "mimetype": "text/x-python",
   "name": "python",
   "nbconvert_exporter": "python",
   "pygments_lexer": "ipython3",
   "version": "3.7.0"
  }
 },
 "nbformat": 4,
 "nbformat_minor": 2
}
